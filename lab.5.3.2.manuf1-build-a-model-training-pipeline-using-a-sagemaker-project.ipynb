{
 "cells": [
  {
   "cell_type": "markdown",
   "id": "4b32e320-390f-428e-a673-4f83b4049590",
   "metadata": {},
   "source": [
    "# Build a SageMaker pipeline to orchestrate ML project steps"
   ]
  },
  {
   "cell_type": "code",
   "execution_count": 1,
   "id": "d3d8a9c7-c587-4116-ad02-6c00925d7fd2",
   "metadata": {
    "tags": []
   },
   "outputs": [],
   "source": [
    "!pip install -U sagemaker -q"
   ]
  },
  {
   "cell_type": "markdown",
   "id": "977710f9-75b6-44a2-8c45-5a89af2cef5b",
   "metadata": {},
   "source": [
    "## setup "
   ]
  },
  {
   "cell_type": "code",
   "execution_count": 2,
   "id": "2d097543-1c93-450d-b4f6-a2ba45971542",
   "metadata": {
    "tags": []
   },
   "outputs": [],
   "source": [
    "import os\n",
    "import numpy as np\n",
    "import sagemaker, boto3, json\n",
    "from sagemaker.session import Session\n",
    "\n",
    "sagemaker_session = Session()\n",
    "account_id = sagemaker_session.account_id()\n",
    "aws_role = sagemaker_session.get_caller_identity_arn()\n",
    "aws_region = boto3.Session().region_name\n",
    "sess = sagemaker.Session()"
   ]
  },
  {
   "cell_type": "code",
   "execution_count": 3,
   "id": "f69e15e3-8d2a-4371-9f60-8d90b00c3a8b",
   "metadata": {
    "tags": []
   },
   "outputs": [],
   "source": [
    "bucket_name = f\"sagemaker-cv-bootcamp-{aws_region}-{account_id}\"\n",
    "# If your labeling job name is different, update the following variable.\n",
    "labeling_job_name = \"cv-bootcamp-manuf-at-scale-cap-no-cap\"\n",
    "\n",
    "s3_manifest_file_path = (f\"s3://{bucket_name}/labeled-data/{labeling_job_name}/manifests/output/output.manifest\")"
   ]
  },
  {
   "cell_type": "code",
   "execution_count": 4,
   "id": "487cef55-a18e-4dad-a2f1-02b3e0b83ce7",
   "metadata": {
    "tags": []
   },
   "outputs": [],
   "source": [
    "model_filename = \"ssd_resnet50_v1_fpn_640x640_coco17_tpu-8.tar.gz\""
   ]
  },
  {
   "cell_type": "markdown",
   "id": "e0cef5ab-9556-48b7-a77b-a118f20c0ccb",
   "metadata": {},
   "source": [
    "## Pipeline parameters"
   ]
  },
  {
   "cell_type": "code",
   "execution_count": 5,
   "id": "9e423fe8-39e3-48f4-9666-ac62b90d9143",
   "metadata": {
    "tags": []
   },
   "outputs": [],
   "source": [
    "from sagemaker.workflow.parameters import (\n",
    "    ParameterInteger,\n",
    "    ParameterString,\n",
    ")"
   ]
  },
  {
   "cell_type": "code",
   "execution_count": 6,
   "id": "136b9aa5-3e54-44ce-8e9c-6786e10524b8",
   "metadata": {
    "tags": []
   },
   "outputs": [],
   "source": [
    "processing_instance_type = ParameterString(name=\"ProcessingInstanceType\", default_value=\"ml.m5.large\")\n",
    "processing_instance_count = ParameterInteger(name=\"ProcessingInstanceCount\", default_value=1)\n",
    "training_instance_type = ParameterString(name=\"TrainingInstanceType\", default_value=\"ml.g4dn.xlarge\")\n",
    "training_instance_count = ParameterInteger(name=\"TrainingInstanceCount\", default_value=1)"
   ]
  },
  {
   "cell_type": "markdown",
   "id": "665d8548-b420-471a-a0e9-a72550d0aaba",
   "metadata": {},
   "source": [
    "## Prepare the data processing job to be part of a pipeline"
   ]
  },
  {
   "cell_type": "markdown",
   "id": "093e058a-033e-4910-83a7-7d30d1215d1b",
   "metadata": {},
   "source": [
    "- data processing:\n",
    "    - data_processor = TensorFlowProcessor(..),\n",
    "    - Create a script that contains the data processing logic\n",
    "    - We configured the ProcessingInput and ProcessingOutput\n",
    "    - We configured and run the processor using data_processor.run(..)"
   ]
  },
  {
   "cell_type": "code",
   "execution_count": 7,
   "id": "9b5e6b75-249e-428a-84b4-0ef41060b666",
   "metadata": {
    "tags": []
   },
   "outputs": [],
   "source": [
    "import boto3\n",
    "import sagemaker\n",
    "from sagemaker import get_execution_role\n",
    "\n",
    "from sagemaker.sklearn.processing import SKLearnProcessor\n",
    "from sagemaker.processing import ProcessingInput, ProcessingOutput\n",
    "from sagemaker.workflow.pipeline_context import PipelineSession"
   ]
  },
  {
   "cell_type": "code",
   "execution_count": 8,
   "id": "e99aa564-9f8d-4c69-bce3-212dc4f2ab3e",
   "metadata": {
    "tags": []
   },
   "outputs": [],
   "source": [
    "pipeline_session = PipelineSession()\n",
    "role = get_execution_role()\n",
    "region = sagemaker.Session().boto_region_name"
   ]
  },
  {
   "cell_type": "code",
   "execution_count": 9,
   "id": "4b46cf04-5a10-4090-9532-9a22f32ef696",
   "metadata": {
    "tags": []
   },
   "outputs": [],
   "source": [
    "from sagemaker.tensorflow import TensorFlowProcessor\n",
    "from sagemaker.processing import ProcessingInput, ProcessingOutput\n",
    "from sagemaker import get_execution_role\n",
    "\n",
    "# Initialize the TensorFlowProcessor\n",
    "data_preprocessor = TensorFlowProcessor(\n",
    "    framework_version='2.3',\n",
    "    role=get_execution_role(),\n",
    "    instance_type='ml.m5.large',\n",
    "    instance_count=1,\n",
    "    base_job_name=\"img-data-preprocessing\",\n",
    "    py_version='py37',\n",
    "    sagemaker_session=pipeline_session\n",
    ")"
   ]
  },
  {
   "cell_type": "code",
   "execution_count": 10,
   "id": "155309bd-5efd-46f9-b0b0-17ef73893fcd",
   "metadata": {
    "tags": []
   },
   "outputs": [
    {
     "name": "stderr",
     "output_type": "stream",
     "text": [
      "/home/ec2-user/anaconda3/envs/python3/lib/python3.10/site-packages/sagemaker/workflow/pipeline_context.py:258: UserWarning: Running within a PipelineSession, there will be No Wait, No Logs, and No Job being started.\n",
      "  warnings.warn(\n"
     ]
    }
   ],
   "source": [
    "# Run the processing job\n",
    "data_processor_args = data_preprocessor.run(\n",
    "    code='preprocessing.py',\n",
    "    source_dir='preprocess',\n",
    "    inputs=[\n",
    "        ProcessingInput(\n",
    "            input_name='manifest',\n",
    "            source=s3_manifest_file_path,\n",
    "            destination='/opt/ml/processing/input/manifest'\n",
    "        ),\n",
    "        ProcessingInput(\n",
    "            input_name='images',\n",
    "            source=f\"s3://{bucket_name}/raw-data/manufacturing-at-scale-cap-no-cap/\",\n",
    "            destination='/opt/ml/processing/input/images'\n",
    "        )\n",
    "    ],\n",
    "    outputs=[\n",
    "        ProcessingOutput(\n",
    "            output_name='manifests',\n",
    "            source='/opt/ml/processing/output/manifests',\n",
    "            destination=f's3://{bucket_name}/prepared_data/manifests/',\n",
    "            s3_upload_mode=\"Continuous\"\n",
    "        ),\n",
    "        ProcessingOutput(\n",
    "            output_name='augmented_train_images',\n",
    "            source='/opt/ml/processing/output/augmented_train_images',\n",
    "            destination=f's3://{bucket_name}/prepared_data/train/images/',\n",
    "            s3_upload_mode=\"Continuous\"\n",
    "        ),\n",
    "        ProcessingOutput(\n",
    "            output_name='augmented_validation_images',\n",
    "            source='/opt/ml/processing/output/augmented_validation_images',\n",
    "            destination=f's3://{bucket_name}/prepared_data/validation/images/',\n",
    "            s3_upload_mode=\"Continuous\"\n",
    "        )\n",
    "    ],\n",
    "    arguments=[\n",
    "        \"--num_augmentations_per_img\", str(5),\n",
    "        \"--output_s3_bucket_name\", bucket_name,\n",
    "        \"--label_attribute_name\", \"cap-no-cap\"\n",
    "    ]\n",
    ")"
   ]
  },
  {
   "cell_type": "code",
   "execution_count": 11,
   "id": "81ca4bbf-a42c-428b-b279-db1f509c87e9",
   "metadata": {
    "tags": []
   },
   "outputs": [],
   "source": [
    "from sagemaker.workflow.steps import ProcessingStep\n",
    "\n",
    "data_process_step = ProcessingStep(\n",
    "    name=\"DataPreprocessing-ImageAugmentation\",\n",
    "    step_args=data_processor_args\n",
    ")"
   ]
  },
  {
   "cell_type": "markdown",
   "id": "3e519698-af00-4ebe-b6e2-8916c6790e29",
   "metadata": {},
   "source": [
    "## Prepare the training job to be part of a pipeline\n"
   ]
  },
  {
   "cell_type": "markdown",
   "id": "f4e40fd9-3a4f-494c-b8f1-7e61b2a1872a",
   "metadata": {},
   "source": [
    "- model training:\n",
    "    - model_estimator = Estimator(..),\n",
    "    - Create a script that contains the model training logic.\n",
    "    - We configured the TrainingInput, SageMaker by default copies the trained model from a specific location to S3.\n",
    "    - We configured and run the training job using model_estimator.fit({\"train\": .., \"test\": ..})"
   ]
  },
  {
   "cell_type": "code",
   "execution_count": 12,
   "id": "85f900b1-27cc-4b44-a59b-a4c0b664bfcd",
   "metadata": {
    "tags": []
   },
   "outputs": [
    {
     "data": {
      "text/plain": [
       "'763104351884.dkr.ecr.us-east-1.amazonaws.com/tensorflow-training:2.4-gpu-py37'"
      ]
     },
     "execution_count": 12,
     "metadata": {},
     "output_type": "execute_result"
    }
   ],
   "source": [
    "from sagemaker import image_uris\n",
    "\n",
    "training_instance_type = \"ml.p3.2xlarge\"\n",
    "# training_instance_type = \"ml.g4dn.xlarge\"\n",
    "# training_instance_type = \"ml.m5.xlarge\"\n",
    "\n",
    "# model version can be found in\n",
    "# https://sagemaker.readthedocs.io/en/stable/doc_utils/pretrainedmodels.html\n",
    "# available images: https://github.com/aws/deep-learning-containers/blob/master/available_images.md\n",
    "# Retrieve the docker image\n",
    "train_image_uri = image_uris.retrieve(\n",
    "    region=\"us-east-1\",\n",
    "    framework=\"tensorflow\",\n",
    "    version=\"2.4\",\n",
    "    image_scope=\"training\",\n",
    "    instance_type=training_instance_type\n",
    ")\n",
    "train_image_uri"
   ]
  },
  {
   "cell_type": "code",
   "execution_count": 13,
   "id": "933be382-affe-480b-8ecf-b652b9f06bd8",
   "metadata": {
    "tags": []
   },
   "outputs": [],
   "source": [
    "hyperparameters = {\n",
    "    \"batch_size\": \"3\",\n",
    "    \"reinitialize_top_layer\": \"Auto\",\n",
    "    \"train_only_top_layer\": \"False\",\n",
    "    \"optimizer\": \"adam\",\n",
    "    \"learning_rate\": \"0.001\",\n",
    "    \"beta_1\": \"0.9\",\n",
    "    \"beta_2\": \"0.999\",\n",
    "    \"momentum\": \"0.9\",\n",
    "    \"epsilon\": \"1e-07\",\n",
    "    \"rho\": \"0.95\",\n",
    "    \"initial_accumulator_value\": \"0.1\",\n",
    "    \"early_stopping\": \"False\",\n",
    "    \"early_stopping_patience\": \"5\",\n",
    "    \"early_stopping_min_delta\": \"0.0\",\n",
    "    \"epochs\": \"1\"\n",
    "}"
   ]
  },
  {
   "cell_type": "code",
   "execution_count": 14,
   "id": "6c2091d1-c081-4aee-8a7e-ac85ebe01939",
   "metadata": {
    "tags": []
   },
   "outputs": [
    {
     "name": "stdout",
     "output_type": "stream",
     "text": [
      "\u001b[1mtrain/custom_object_detection_training.py\u001b[m\u001b[36m:\u001b[m37\u001b[36m:\u001b[m1\u001b[36m:\u001b[m \u001b[1m\u001b[31mE303\u001b[m too many blank lines (3)\n",
      "\u001b[1mtrain/custom_object_detection_training.py\u001b[m\u001b[36m:\u001b[m419\u001b[36m:\u001b[m1\u001b[36m:\u001b[m \u001b[1m\u001b[31mW293\u001b[m blank line contains whitespace\n"
     ]
    }
   ],
   "source": [
    "!flake8 --max-line-length=120 --ignore=E402 train/custom_object_detection_training.py"
   ]
  },
  {
   "cell_type": "code",
   "execution_count": 4,
   "id": "f92c5dd7",
   "metadata": {},
   "outputs": [
    {
     "data": {
      "text/plain": [
       "('s3://jumpstart-cache-prod-us-east-1/source-directory-tarballs/tensorflow/transfer_learning/od1/v1.1.0/sourcedir.tar.gz',\n",
       " 's3://jumpstart-cache-prod-us-east-1/tensorflow-training/train-tensorflow-od1-ssd-resnet50-v1-fpn-640x640-coco17-tpu-8.tar.gz')"
      ]
     },
     "execution_count": 4,
     "metadata": {},
     "output_type": "execute_result"
    }
   ],
   "source": [
    "from sagemaker import image_uris, model_uris, script_uris, hyperparameters\n",
    "\n",
    "model_id, model_version = \"tensorflow-od1-ssd-resnet50-v1-fpn-640x640-coco17-tpu-8\", '*'\n",
    "\n",
    "# Retrieve the training script\n",
    "train_source_uri = script_uris.retrieve(\n",
    "    model_id=model_id, model_version=model_version, script_scope=\"training\"\n",
    ")\n",
    "\n",
    "# Retrieve the pre-trained model tarball to further fine-tune\n",
    "train_model_uri = model_uris.retrieve(\n",
    "    model_id=model_id, model_version=model_version, model_scope=\"training\"\n",
    ")\n",
    "\n",
    "train_source_uri,train_model_uri"
   ]
  },
  {
   "cell_type": "code",
   "execution_count": 15,
   "id": "10377741-0b4b-4e63-b19e-f77b98c01b9f",
   "metadata": {
    "tags": []
   },
   "outputs": [],
   "source": [
    "from sagemaker.estimator import Estimator\n",
    "from sagemaker.utils import name_from_base\n",
    "from sagemaker.tuner import HyperparameterTuner\n",
    "\n",
    "training_job_name = name_from_base(f\"cv-bootcamp-manuf1-model\")\n",
    "\n",
    "training_metric_definitions = [\n",
    "    {\"Name\": \"val_localization_loss\", \"Regex\": \"Val_localization=([0-9\\\\.]+)\"},\n",
    "    {\"Name\": \"val_classification_loss\", \"Regex\": \"Val_classification=([0-9\\\\.]+)\"},\n",
    "    {\"Name\": \"train_loss\", \"Regex\": \"loss=([0-9\\\\.]+).\"},\n",
    "]\n",
    "\n",
    "# Create SageMaker Estimator instance\n",
    "eager_tf_od_estimator = Estimator(\n",
    "    entry_point=\"custom_object_detection_training.py\",\n",
    "    source_dir=\"train\",\n",
    "    role=aws_role,\n",
    "    image_uri=train_image_uri,\n",
    "    model_uri=f\"s3://{bucket_name}/pre-trained-models/{model_filename}\",\n",
    "    instance_count=1,\n",
    "#     instance_type=training_instance_type,\n",
    "    instance_type=\"local\",\n",
    "    max_run=360000,\n",
    "    volume_size=50,\n",
    "    hyperparameters=hyperparameters,\n",
    "    output_path=f\"s3://{bucket_name}/manuf1-model/output/\",\n",
    "    base_job_name=training_job_name,\n",
    "    metric_definitions=training_metric_definitions,\n",
    "    sagemaker_session=pipeline_session\n",
    ")"
   ]
  },
  {
   "cell_type": "code",
   "execution_count": 16,
   "id": "45d44e5c-82da-4f21-baf1-3270e3836153",
   "metadata": {
    "tags": []
   },
   "outputs": [],
   "source": [
    "from sagemaker.inputs import TrainingInput"
   ]
  },
  {
   "cell_type": "code",
   "execution_count": 17,
   "id": "256fe342-6a6d-46b9-b83e-dd54c7a64086",
   "metadata": {
    "tags": []
   },
   "outputs": [],
   "source": [
    "# train_dataset_s3_path = f\"s3://{bucket_name}/prepared_data/train/\"\n",
    "# validation_dataset_s3_path = f\"s3://{bucket_name}/prepared_data/validation/\"\n",
    "# manifests_dataset_s3_path = f\"s3://{bucket_name}/prepared_data/manifests/\""
   ]
  },
  {
   "cell_type": "code",
   "execution_count": 18,
   "id": "4b0f1574-284d-4d39-8e0d-a6f2a6734eca",
   "metadata": {
    "tags": []
   },
   "outputs": [
    {
     "name": "stdout",
     "output_type": "stream",
     "text": [
      "2023-03-26 13:08:31       5638 test.manifest\n",
      "2023-03-26 13:08:31     326321 train.manifest\n",
      "2023-03-26 13:08:31      41109 validation.manifest\n"
     ]
    }
   ],
   "source": [
    "!aws s3 ls {manifests_dataset_s3_path}"
   ]
  },
  {
   "cell_type": "code",
   "execution_count": 19,
   "id": "d7d0c2cb-6349-46c6-86e7-d9071226b058",
   "metadata": {
    "tags": []
   },
   "outputs": [],
   "source": [
    "training_data_input = TrainingInput(\n",
    "    s3_data=data_process_step.properties.ProcessingOutputConfig.Outputs[\"augmented_train_images\"].S3Output.S3Uri\n",
    ")\n",
    "validation_data_input = TrainingInput(\n",
    "    s3_data=data_process_step.properties.ProcessingOutputConfig.Outputs[\"augmented_validation_images\"].S3Output.S3Uri\n",
    ")"
   ]
  },
  {
   "cell_type": "code",
   "execution_count": 20,
   "id": "70cb26e6-5019-4d99-a9b1-d4e22fd7b182",
   "metadata": {
    "tags": []
   },
   "outputs": [
    {
     "name": "stdout",
     "output_type": "stream",
     "text": [
      "CPU times: user 140 µs, sys: 31 µs, total: 171 µs\n",
      "Wall time: 177 µs\n"
     ]
    }
   ],
   "source": [
    "%%time\n",
    "# Launch a SageMaker Training job by passing s3 path of the training data\n",
    "training_args = eager_tf_od_estimator.fit({\n",
    "    \"training\": training_data_input,\n",
    "    \"validation\": validation_data_input,\n",
    "# })\n",
    "}, logs=False, wait=False)"
   ]
  },
  {
   "cell_type": "code",
   "execution_count": 21,
   "id": "96d3a61b-a23d-420a-a5b3-36e60622053e",
   "metadata": {
    "tags": []
   },
   "outputs": [],
   "source": [
    "from sagemaker.workflow.steps import TrainingStep\n",
    "\n",
    "object_detection_model_training_step = TrainingStep(\n",
    "    name=\"Manuf1-Eager-TF-Object-Detection\",\n",
    "    step_args=training_args\n",
    ")"
   ]
  },
  {
   "cell_type": "markdown",
   "id": "e52a1a67-08e4-4ee8-be94-3cab34a54fda",
   "metadata": {
    "tags": []
   },
   "source": [
    "## Pipeline execution"
   ]
  },
  {
   "cell_type": "code",
   "execution_count": 22,
   "id": "9f6b1aae-42c6-445d-a4a7-33ee9caccf73",
   "metadata": {
    "tags": []
   },
   "outputs": [],
   "source": [
    "from sagemaker.workflow.pipeline import Pipeline"
   ]
  },
  {
   "cell_type": "code",
   "execution_count": 23,
   "id": "b72cf50f-124d-4eb2-bf14-f4d56fd2dcab",
   "metadata": {
    "tags": []
   },
   "outputs": [],
   "source": [
    "eager_object_detection_pipeline = Pipeline(\n",
    "    name=\"eager-object-detection-training-pipeline\",\n",
    "    parameters=[\n",
    "        processing_instance_type,\n",
    "        processing_instance_count,\n",
    "        training_instance_type,\n",
    "        training_instance_count\n",
    "    ],\n",
    "    steps=[\n",
    "        data_process_step,\n",
    "        object_detection_model_training_step\n",
    "    ]\n",
    ")"
   ]
  },
  {
   "cell_type": "code",
   "execution_count": 24,
   "id": "14ad1713-dd03-4c2d-ae37-9786d4155fad",
   "metadata": {
    "tags": []
   },
   "outputs": [
    {
     "data": {
      "text/plain": [
       "'eager-object-detection-training-pipeline'"
      ]
     },
     "execution_count": 24,
     "metadata": {},
     "output_type": "execute_result"
    }
   ],
   "source": [
    "eager_object_detection_pipeline.name"
   ]
  },
  {
   "cell_type": "code",
   "execution_count": 25,
   "id": "b1274c1c-b6a5-4f8b-b2ab-043ac8f10bab",
   "metadata": {
    "tags": []
   },
   "outputs": [
    {
     "data": {
      "text/plain": [
       "[ProcessingStep(name='DataPreprocessing-ImageAugmentation', display_name=None, description=None, step_type=<StepTypeEnum.PROCESSING: 'Processing'>, depends_on=None),\n",
       " TrainingStep(name='Manuf1-Eager-TF-Object-Detection', display_name=None, description=None, step_type=<StepTypeEnum.TRAINING: 'Training'>, depends_on=None)]"
      ]
     },
     "execution_count": 25,
     "metadata": {},
     "output_type": "execute_result"
    }
   ],
   "source": [
    "eager_object_detection_pipeline.steps"
   ]
  },
  {
   "cell_type": "code",
   "execution_count": 26,
   "id": "303463bc-e74e-46ba-8abd-80ef067950ce",
   "metadata": {
    "tags": []
   },
   "outputs": [
    {
     "data": {
      "text/plain": [
       "[ParameterString(name='ProcessingInstanceType', parameter_type=<ParameterTypeEnum.STRING: 'String'>, default_value='ml.m5.large'),\n",
       " ParameterInteger(name='ProcessingInstanceCount', parameter_type=<ParameterTypeEnum.INTEGER: 'Integer'>, default_value=1),\n",
       " 'ml.p3.2xlarge',\n",
       " ParameterInteger(name='TrainingInstanceCount', parameter_type=<ParameterTypeEnum.INTEGER: 'Integer'>, default_value=1)]"
      ]
     },
     "execution_count": 26,
     "metadata": {},
     "output_type": "execute_result"
    }
   ],
   "source": [
    "eager_object_detection_pipeline.parameters"
   ]
  },
  {
   "cell_type": "code",
   "execution_count": 27,
   "id": "83d982c8-46eb-4983-a454-12ef41a2d78e",
   "metadata": {
    "tags": []
   },
   "outputs": [
    {
     "data": {
      "text/plain": [
       "{'Version': '2020-12-01',\n",
       " 'Metadata': {},\n",
       " 'Parameters': [{'Name': 'ProcessingInstanceType',\n",
       "   'Type': 'String',\n",
       "   'DefaultValue': 'ml.m5.large'},\n",
       "  {'Name': 'ProcessingInstanceCount', 'Type': 'Integer', 'DefaultValue': 1},\n",
       "  {'Name': 'TrainingInstanceCount', 'Type': 'Integer', 'DefaultValue': 1}],\n",
       " 'PipelineExperimentConfig': {'ExperimentName': {'Get': 'Execution.PipelineName'},\n",
       "  'TrialName': {'Get': 'Execution.PipelineExecutionId'}},\n",
       " 'Steps': [{'Name': 'DataPreprocessing-ImageAugmentation',\n",
       "   'Type': 'Processing',\n",
       "   'Arguments': {'ProcessingResources': {'ClusterConfig': {'InstanceType': 'ml.m5.large',\n",
       "      'InstanceCount': 1,\n",
       "      'VolumeSizeInGB': 30}},\n",
       "    'AppSpecification': {'ImageUri': '763104351884.dkr.ecr.us-east-1.amazonaws.com/tensorflow-training:2.3-cpu-py37',\n",
       "     'ContainerArguments': ['--num_augmentations_per_img',\n",
       "      '5',\n",
       "      '--output_s3_bucket_name',\n",
       "      'sagemaker-cv-bootcamp-us-east-1-<AWS_ACCOUNT_ID>',\n",
       "      '--label_attribute_name',\n",
       "      'cap-no-cap'],\n",
       "     'ContainerEntrypoint': ['/bin/bash',\n",
       "      '/opt/ml/processing/input/entrypoint/runproc.sh']},\n",
       "    'RoleArn': 'arn:aws:iam::<AWS_ACCOUNT_ID>:role/service-role/AmazonSageMaker-ExecutionRole-20210608T184919',\n",
       "    'ProcessingInputs': [{'InputName': 'manifest',\n",
       "      'AppManaged': False,\n",
       "      'S3Input': {'S3Uri': 's3://sagemaker-cv-bootcamp-us-east-1-<AWS_ACCOUNT_ID>/labeled-data/cv-bootcamp-manuf-at-scale-cap-no-cap/manifests/output/output.manifest',\n",
       "       'LocalPath': '/opt/ml/processing/input/manifest',\n",
       "       'S3DataType': 'S3Prefix',\n",
       "       'S3InputMode': 'File',\n",
       "       'S3DataDistributionType': 'FullyReplicated',\n",
       "       'S3CompressionType': 'None'}},\n",
       "     {'InputName': 'images',\n",
       "      'AppManaged': False,\n",
       "      'S3Input': {'S3Uri': 's3://sagemaker-cv-bootcamp-us-east-1-<AWS_ACCOUNT_ID>/raw-data/manufacturing-at-scale-cap-no-cap/',\n",
       "       'LocalPath': '/opt/ml/processing/input/images',\n",
       "       'S3DataType': 'S3Prefix',\n",
       "       'S3InputMode': 'File',\n",
       "       'S3DataDistributionType': 'FullyReplicated',\n",
       "       'S3CompressionType': 'None'}},\n",
       "     {'InputName': 'code',\n",
       "      'AppManaged': False,\n",
       "      'S3Input': {'S3Uri': 's3://sagemaker-us-east-1-<AWS_ACCOUNT_ID>/eager-object-detection-training-pipeline/code/d6caf252d53afa53847a8cb33159da11/sourcedir.tar.gz',\n",
       "       'LocalPath': '/opt/ml/processing/input/code/',\n",
       "       'S3DataType': 'S3Prefix',\n",
       "       'S3InputMode': 'File',\n",
       "       'S3DataDistributionType': 'FullyReplicated',\n",
       "       'S3CompressionType': 'None'}},\n",
       "     {'InputName': 'entrypoint',\n",
       "      'AppManaged': False,\n",
       "      'S3Input': {'S3Uri': 's3://sagemaker-us-east-1-<AWS_ACCOUNT_ID>/eager-object-detection-training-pipeline/code/54f0ef6bee583ff9186b762aaf572190/runproc.sh',\n",
       "       'LocalPath': '/opt/ml/processing/input/entrypoint',\n",
       "       'S3DataType': 'S3Prefix',\n",
       "       'S3InputMode': 'File',\n",
       "       'S3DataDistributionType': 'FullyReplicated',\n",
       "       'S3CompressionType': 'None'}}],\n",
       "    'ProcessingOutputConfig': {'Outputs': [{'OutputName': 'manifests',\n",
       "       'AppManaged': False,\n",
       "       'S3Output': {'S3Uri': 's3://sagemaker-cv-bootcamp-us-east-1-<AWS_ACCOUNT_ID>/prepared_data/manifests/',\n",
       "        'LocalPath': '/opt/ml/processing/output/manifests',\n",
       "        'S3UploadMode': 'Continuous'}},\n",
       "      {'OutputName': 'augmented_train_images',\n",
       "       'AppManaged': False,\n",
       "       'S3Output': {'S3Uri': 's3://sagemaker-cv-bootcamp-us-east-1-<AWS_ACCOUNT_ID>/prepared_data/train/images/',\n",
       "        'LocalPath': '/opt/ml/processing/output/augmented_train_images',\n",
       "        'S3UploadMode': 'Continuous'}},\n",
       "      {'OutputName': 'augmented_validation_images',\n",
       "       'AppManaged': False,\n",
       "       'S3Output': {'S3Uri': 's3://sagemaker-cv-bootcamp-us-east-1-<AWS_ACCOUNT_ID>/prepared_data/validation/images/',\n",
       "        'LocalPath': '/opt/ml/processing/output/augmented_validation_images',\n",
       "        'S3UploadMode': 'Continuous'}}]}}},\n",
       "  {'Name': 'Manuf1-Eager-TF-Object-Detection',\n",
       "   'Type': 'Training',\n",
       "   'Arguments': {'AlgorithmSpecification': {'TrainingInputMode': 'File',\n",
       "     'TrainingImage': '763104351884.dkr.ecr.us-east-1.amazonaws.com/tensorflow-training:2.4-gpu-py37',\n",
       "     'MetricDefinitions': [{'Name': 'val_localization_loss',\n",
       "       'Regex': 'Val_localization=([0-9\\\\.]+)'},\n",
       "      {'Name': 'val_classification_loss',\n",
       "       'Regex': 'Val_classification=([0-9\\\\.]+)'},\n",
       "      {'Name': 'train_loss', 'Regex': 'loss=([0-9\\\\.]+).'}]},\n",
       "    'OutputDataConfig': {'S3OutputPath': 's3://sagemaker-cv-bootcamp-us-east-1-<AWS_ACCOUNT_ID>/manuf1-model/output/'},\n",
       "    'StoppingCondition': {'MaxRuntimeInSeconds': 360000},\n",
       "    'ResourceConfig': {'VolumeSizeInGB': 50,\n",
       "     'InstanceCount': 1,\n",
       "     'InstanceType': 'ml.p3.2xlarge'},\n",
       "    'RoleArn': 'arn:aws:iam::<AWS_ACCOUNT_ID>:role/service-role/AmazonSageMaker-ExecutionRole-20210608T184919',\n",
       "    'InputDataConfig': [{'DataSource': {'S3DataSource': {'S3DataType': 'S3Prefix',\n",
       "        'S3Uri': {'Get': \"Steps.DataPreprocessing-ImageAugmentation.ProcessingOutputConfig.Outputs['augmented_train_images'].S3Output.S3Uri\"},\n",
       "        'S3DataDistributionType': 'FullyReplicated'}},\n",
       "      'ChannelName': 'training'},\n",
       "     {'DataSource': {'S3DataSource': {'S3DataType': 'S3Prefix',\n",
       "        'S3Uri': {'Get': \"Steps.DataPreprocessing-ImageAugmentation.ProcessingOutputConfig.Outputs['augmented_validation_images'].S3Output.S3Uri\"},\n",
       "        'S3DataDistributionType': 'FullyReplicated'}},\n",
       "      'ChannelName': 'validation'},\n",
       "     {'DataSource': {'S3DataSource': {'S3DataType': 'S3Prefix',\n",
       "        'S3Uri': 's3://sagemaker-cv-bootcamp-us-east-1-<AWS_ACCOUNT_ID>/prepared_data/manifests/',\n",
       "        'S3DataDistributionType': 'FullyReplicated'}},\n",
       "      'ChannelName': 'manifests'},\n",
       "     {'DataSource': {'S3DataSource': {'S3DataType': 'S3Prefix',\n",
       "        'S3Uri': 's3://sagemaker-cv-bootcamp-us-east-1-<AWS_ACCOUNT_ID>/pre-trained-models/ssd_resnet50_v1_fpn_640x640_coco17_tpu-8.tar.gz',\n",
       "        'S3DataDistributionType': 'FullyReplicated'}},\n",
       "      'ContentType': 'application/x-sagemaker-model',\n",
       "      'InputMode': 'File',\n",
       "      'ChannelName': 'model'}],\n",
       "    'HyperParameters': {'batch_size': '\"3\"',\n",
       "     'reinitialize_top_layer': '\"Auto\"',\n",
       "     'train_only_top_layer': '\"False\"',\n",
       "     'optimizer': '\"adam\"',\n",
       "     'learning_rate': '\"0.001\"',\n",
       "     'beta_1': '\"0.9\"',\n",
       "     'beta_2': '\"0.999\"',\n",
       "     'momentum': '\"0.9\"',\n",
       "     'epsilon': '\"1e-07\"',\n",
       "     'rho': '\"0.95\"',\n",
       "     'initial_accumulator_value': '\"0.1\"',\n",
       "     'early_stopping': '\"False\"',\n",
       "     'early_stopping_patience': '\"5\"',\n",
       "     'early_stopping_min_delta': '\"0.0\"',\n",
       "     'epochs': '\"1\"',\n",
       "     'sagemaker_submit_directory': '\"s3://sagemaker-cv-bootcamp-us-east-1-<AWS_ACCOUNT_ID>/eager-object-detection-training-pipeline/code/38f7a1fa502fb8c80c98a28d156234d5/sourcedir.tar.gz\"',\n",
       "     'sagemaker_program': '\"custom_object_detection_training.py\"',\n",
       "     'sagemaker_container_log_level': '20',\n",
       "     'sagemaker_region': '\"us-east-1\"'},\n",
       "    'DebugHookConfig': {'S3OutputPath': 's3://sagemaker-cv-bootcamp-us-east-1-<AWS_ACCOUNT_ID>/manuf1-model/output/',\n",
       "     'CollectionConfigurations': []},\n",
       "    'ProfilerConfig': {'S3OutputPath': 's3://sagemaker-cv-bootcamp-us-east-1-<AWS_ACCOUNT_ID>/manuf1-model/output/',\n",
       "     'DisableProfiler': False}}}]}"
      ]
     },
     "execution_count": 27,
     "metadata": {},
     "output_type": "execute_result"
    }
   ],
   "source": [
    "import json\n",
    "\n",
    "json.loads(eager_object_detection_pipeline.definition())"
   ]
  },
  {
   "cell_type": "markdown",
   "id": "76d8b14a-4aff-4d8c-9722-348e2babae45",
   "metadata": {},
   "source": [
    "### Creating, updating and starting a pipeline\n",
    "\n",
    "Submit the pipeline definition to the Pipeline service. The Pipeline service uses the role that is passed in to create all the jobs defined in the steps.\n",
    "\n"
   ]
  },
  {
   "cell_type": "code",
   "execution_count": 28,
   "id": "4fcab4e1-faca-43e0-a9a3-f8856fbafe7b",
   "metadata": {
    "tags": []
   },
   "outputs": [
    {
     "name": "stderr",
     "output_type": "stream",
     "text": [
      "INFO:sagemaker.processing:Uploaded preprocess to s3://sagemaker-us-east-1-<AWS_ACCOUNT_ID>/eager-object-detection-training-pipeline/code/d6caf252d53afa53847a8cb33159da11/sourcedir.tar.gz\n",
      "INFO:sagemaker.processing:runproc.sh uploaded to s3://sagemaker-us-east-1-<AWS_ACCOUNT_ID>/eager-object-detection-training-pipeline/code/54f0ef6bee583ff9186b762aaf572190/runproc.sh\n",
      "INFO:sagemaker.processing:Uploaded preprocess to s3://sagemaker-us-east-1-<AWS_ACCOUNT_ID>/eager-object-detection-training-pipeline/code/d6caf252d53afa53847a8cb33159da11/sourcedir.tar.gz\n",
      "INFO:sagemaker.processing:runproc.sh uploaded to s3://sagemaker-us-east-1-<AWS_ACCOUNT_ID>/eager-object-detection-training-pipeline/code/54f0ef6bee583ff9186b762aaf572190/runproc.sh\n"
     ]
    },
    {
     "data": {
      "text/plain": [
       "{'PipelineArn': 'arn:aws:sagemaker:us-east-1:<AWS_ACCOUNT_ID>:pipeline/eager-object-detection-training-pipeline',\n",
       " 'ResponseMetadata': {'RequestId': 'd29c1d23-8900-4ba5-a2cd-cdf849b47058',\n",
       "  'HTTPStatusCode': 200,\n",
       "  'HTTPHeaders': {'x-amzn-requestid': 'd29c1d23-8900-4ba5-a2cd-cdf849b47058',\n",
       "   'content-type': 'application/x-amz-json-1.1',\n",
       "   'content-length': '108',\n",
       "   'date': 'Sun, 26 Mar 2023 13:37:05 GMT'},\n",
       "  'RetryAttempts': 0}}"
      ]
     },
     "execution_count": 28,
     "metadata": {},
     "output_type": "execute_result"
    }
   ],
   "source": [
    "eager_object_detection_pipeline.upsert(role_arn=role)"
   ]
  },
  {
   "cell_type": "code",
   "execution_count": 29,
   "id": "f08e8988-9f9d-467a-b75a-be02d2cb0b7a",
   "metadata": {
    "tags": []
   },
   "outputs": [],
   "source": [
    "execution = eager_object_detection_pipeline.start()"
   ]
  },
  {
   "cell_type": "code",
   "execution_count": 30,
   "id": "da16978a-1324-4820-aea4-132a853b9ae6",
   "metadata": {
    "tags": []
   },
   "outputs": [
    {
     "data": {
      "text/plain": [
       "{'PipelineArn': 'arn:aws:sagemaker:us-east-1:<AWS_ACCOUNT_ID>:pipeline/eager-object-detection-training-pipeline',\n",
       " 'PipelineExecutionArn': 'arn:aws:sagemaker:us-east-1:<AWS_ACCOUNT_ID>:pipeline/eager-object-detection-training-pipeline/execution/m0ztoa1jezus',\n",
       " 'PipelineExecutionDisplayName': 'execution-1679837825594',\n",
       " 'PipelineExecutionStatus': 'Executing',\n",
       " 'CreationTime': datetime.datetime(2023, 3, 26, 13, 37, 5, 523000, tzinfo=tzlocal()),\n",
       " 'LastModifiedTime': datetime.datetime(2023, 3, 26, 13, 37, 5, 523000, tzinfo=tzlocal()),\n",
       " 'CreatedBy': {},\n",
       " 'LastModifiedBy': {},\n",
       " 'ResponseMetadata': {'RequestId': 'd0b36a9f-21d9-4dc1-b645-f37804f2e60a',\n",
       "  'HTTPStatusCode': 200,\n",
       "  'HTTPHeaders': {'x-amzn-requestid': 'd0b36a9f-21d9-4dc1-b645-f37804f2e60a',\n",
       "   'content-type': 'application/x-amz-json-1.1',\n",
       "   'content-length': '445',\n",
       "   'date': 'Sun, 26 Mar 2023 13:37:05 GMT'},\n",
       "  'RetryAttempts': 0}}"
      ]
     },
     "execution_count": 30,
     "metadata": {},
     "output_type": "execute_result"
    }
   ],
   "source": [
    "execution.describe()"
   ]
  },
  {
   "cell_type": "code",
   "execution_count": null,
   "id": "b751a5b7-823a-4f8f-865f-286167347444",
   "metadata": {},
   "outputs": [],
   "source": []
  }
 ],
 "metadata": {
  "kernelspec": {
   "display_name": "Python 3 (ipykernel)",
   "language": "python",
   "name": "python3"
  },
  "language_info": {
   "codemirror_mode": {
    "name": "ipython",
    "version": 3
   },
   "file_extension": ".py",
   "mimetype": "text/x-python",
   "name": "python",
   "nbconvert_exporter": "python",
   "pygments_lexer": "ipython3",
   "version": "3.9.13"
  },
  "toc": {
   "base_numbering": 1,
   "nav_menu": {},
   "number_sections": true,
   "sideBar": true,
   "skip_h1_title": false,
   "title_cell": "Table of Contents",
   "title_sidebar": "Contents",
   "toc_cell": false,
   "toc_position": {},
   "toc_section_display": true,
   "toc_window_display": false
  }
 },
 "nbformat": 4,
 "nbformat_minor": 5
}
