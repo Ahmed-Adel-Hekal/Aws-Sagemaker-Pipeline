{
 "cells": [
  {
   "cell_type": "code",
   "execution_count": 78,
   "id": "a1caacf8",
   "metadata": {},
   "outputs": [],
   "source": [
    "import cv2 \n",
    "import albumentations as A\n",
    "import sagemaker\n",
    "import tempfile\n",
    "import json\n",
    "import os\n",
    "import argparse\n",
    "import copy\n",
    "import random"
   ]
  },
  {
   "cell_type": "code",
   "execution_count": 65,
   "id": "ed32a9e3",
   "metadata": {},
   "outputs": [
    {
     "name": "stderr",
     "output_type": "stream",
     "text": [
      "INFO:botocore.credentials:Found credentials in shared credentials file: ~/.aws/credentials\n",
      "INFO:sagemaker.image_uris:image_uri is not presented, retrieving image_uri based on instance_type, framework etc.\n"
     ]
    },
    {
     "name": "stdout",
     "output_type": "stream",
     "text": [
      "us-east-1\n"
     ]
    }
   ],
   "source": [
    "import sagemaker\n",
    "import boto3\n",
    "# role = sagemaker.get_execution_role()\n",
    "role = 'arn:aws:iam::527657206104:role/service-role/AmazonSageMaker-ExecutionRole-20230329T093409' #for local mode\n",
    "from sagemaker.tensorflow import TensorFlowProcessor\n",
    "from sagemaker.processing import ProcessingInput, ProcessingOutput\n",
    "from sagemaker import get_execution_role\n",
    "AWS_REGION = 'us-east-1'\n",
    "sagemaker_session = sagemaker.Session(boto3.session.Session(region_name=AWS_REGION))\n",
    "\n",
    "print(sagemaker_session.boto_region_name)\n",
    "# Initialize the TensorFlowProcessor\n",
    "data_preprocessor = TensorFlowProcessor(\n",
    "    framework_version='2.3',\n",
    "    role=role,\n",
    "    instance_type='local',\n",
    "    instance_count=1,\n",
    "    base_job_name=\"img-data-preprocessing\",\n",
    "    py_version='py37'\n",
    ")"
   ]
  },
  {
   "cell_type": "code",
   "execution_count": 66,
   "id": "9c38dd87",
   "metadata": {
    "scrolled": true
   },
   "outputs": [
    {
     "name": "stderr",
     "output_type": "stream",
     "text": [
      "INFO:botocore.credentials:Found credentials in shared credentials file: ~/.aws/credentials\n",
      "INFO:sagemaker.processing:Uploaded ./ to s3://sagemaker-us-east-1-527657206104/img-data-preprocessing-2023-05-02-13-23-42-793/source/sourcedir.tar.gz\n",
      "INFO:sagemaker.processing:runproc.sh uploaded to s3://sagemaker-us-east-1-527657206104/img-data-preprocessing-2023-05-02-13-23-42-793/source/runproc.sh\n",
      "INFO:sagemaker:Creating processing-job with name img-data-preprocessing-2023-05-02-13-23-42-793\n",
      "INFO:sagemaker.local.local_session:Starting processing job\n"
     ]
    },
    {
     "ename": "KeyboardInterrupt",
     "evalue": "",
     "output_type": "error",
     "traceback": [
      "\u001b[0;31m---------------------------------------------------------------------------\u001b[0m",
      "\u001b[0;31mKeyboardInterrupt\u001b[0m                         Traceback (most recent call last)",
      "\u001b[0;32m<timed eval>\u001b[0m in \u001b[0;36m<module>\u001b[0;34m\u001b[0m\n",
      "\u001b[0;32m~/anaconda3/lib/python3.9/site-packages/sagemaker/workflow/pipeline_context.py\u001b[0m in \u001b[0;36mwrapper\u001b[0;34m(*args, **kwargs)\u001b[0m\n\u001b[1;32m    282\u001b[0m             \u001b[0;32mreturn\u001b[0m \u001b[0m_StepArguments\u001b[0m\u001b[0;34m(\u001b[0m\u001b[0mretrieve_caller_name\u001b[0m\u001b[0;34m(\u001b[0m\u001b[0mself_instance\u001b[0m\u001b[0;34m)\u001b[0m\u001b[0;34m,\u001b[0m \u001b[0mrun_func\u001b[0m\u001b[0;34m,\u001b[0m \u001b[0;34m*\u001b[0m\u001b[0margs\u001b[0m\u001b[0;34m,\u001b[0m \u001b[0;34m**\u001b[0m\u001b[0mkwargs\u001b[0m\u001b[0;34m)\u001b[0m\u001b[0;34m\u001b[0m\u001b[0;34m\u001b[0m\u001b[0m\n\u001b[1;32m    283\u001b[0m \u001b[0;34m\u001b[0m\u001b[0m\n\u001b[0;32m--> 284\u001b[0;31m         \u001b[0;32mreturn\u001b[0m \u001b[0mrun_func\u001b[0m\u001b[0;34m(\u001b[0m\u001b[0;34m*\u001b[0m\u001b[0margs\u001b[0m\u001b[0;34m,\u001b[0m \u001b[0;34m**\u001b[0m\u001b[0mkwargs\u001b[0m\u001b[0;34m)\u001b[0m\u001b[0;34m\u001b[0m\u001b[0;34m\u001b[0m\u001b[0m\n\u001b[0m\u001b[1;32m    285\u001b[0m \u001b[0;34m\u001b[0m\u001b[0m\n\u001b[1;32m    286\u001b[0m     \u001b[0;32mreturn\u001b[0m \u001b[0mwrapper\u001b[0m\u001b[0;34m\u001b[0m\u001b[0;34m\u001b[0m\u001b[0m\n",
      "\u001b[0;32m~/anaconda3/lib/python3.9/site-packages/sagemaker/processing.py\u001b[0m in \u001b[0;36mrun\u001b[0;34m(self, code, source_dir, dependencies, git_config, inputs, outputs, arguments, wait, logs, job_name, experiment_config, kms_key)\u001b[0m\n\u001b[1;32m   1753\u001b[0m \u001b[0;34m\u001b[0m\u001b[0m\n\u001b[1;32m   1754\u001b[0m         \u001b[0;31m# Submit a processing job.\u001b[0m\u001b[0;34m\u001b[0m\u001b[0;34m\u001b[0m\u001b[0m\n\u001b[0;32m-> 1755\u001b[0;31m         return super().run(\n\u001b[0m\u001b[1;32m   1756\u001b[0m             \u001b[0mcode\u001b[0m\u001b[0;34m=\u001b[0m\u001b[0ms3_runproc_sh\u001b[0m\u001b[0;34m,\u001b[0m\u001b[0;34m\u001b[0m\u001b[0;34m\u001b[0m\u001b[0m\n\u001b[1;32m   1757\u001b[0m             \u001b[0minputs\u001b[0m\u001b[0;34m=\u001b[0m\u001b[0minputs\u001b[0m\u001b[0;34m,\u001b[0m\u001b[0;34m\u001b[0m\u001b[0;34m\u001b[0m\u001b[0m\n",
      "\u001b[0;32m~/anaconda3/lib/python3.9/site-packages/sagemaker/workflow/pipeline_context.py\u001b[0m in \u001b[0;36mwrapper\u001b[0;34m(*args, **kwargs)\u001b[0m\n\u001b[1;32m    282\u001b[0m             \u001b[0;32mreturn\u001b[0m \u001b[0m_StepArguments\u001b[0m\u001b[0;34m(\u001b[0m\u001b[0mretrieve_caller_name\u001b[0m\u001b[0;34m(\u001b[0m\u001b[0mself_instance\u001b[0m\u001b[0;34m)\u001b[0m\u001b[0;34m,\u001b[0m \u001b[0mrun_func\u001b[0m\u001b[0;34m,\u001b[0m \u001b[0;34m*\u001b[0m\u001b[0margs\u001b[0m\u001b[0;34m,\u001b[0m \u001b[0;34m**\u001b[0m\u001b[0mkwargs\u001b[0m\u001b[0;34m)\u001b[0m\u001b[0;34m\u001b[0m\u001b[0;34m\u001b[0m\u001b[0m\n\u001b[1;32m    283\u001b[0m \u001b[0;34m\u001b[0m\u001b[0m\n\u001b[0;32m--> 284\u001b[0;31m         \u001b[0;32mreturn\u001b[0m \u001b[0mrun_func\u001b[0m\u001b[0;34m(\u001b[0m\u001b[0;34m*\u001b[0m\u001b[0margs\u001b[0m\u001b[0;34m,\u001b[0m \u001b[0;34m**\u001b[0m\u001b[0mkwargs\u001b[0m\u001b[0;34m)\u001b[0m\u001b[0;34m\u001b[0m\u001b[0;34m\u001b[0m\u001b[0m\n\u001b[0m\u001b[1;32m    285\u001b[0m \u001b[0;34m\u001b[0m\u001b[0m\n\u001b[1;32m    286\u001b[0m     \u001b[0;32mreturn\u001b[0m \u001b[0mwrapper\u001b[0m\u001b[0;34m\u001b[0m\u001b[0;34m\u001b[0m\u001b[0m\n",
      "\u001b[0;32m~/anaconda3/lib/python3.9/site-packages/sagemaker/processing.py\u001b[0m in \u001b[0;36mrun\u001b[0;34m(self, code, inputs, outputs, arguments, wait, logs, job_name, experiment_config, kms_key)\u001b[0m\n\u001b[1;32m    665\u001b[0m \u001b[0;34m\u001b[0m\u001b[0m\n\u001b[1;32m    666\u001b[0m         \u001b[0mexperiment_config\u001b[0m \u001b[0;34m=\u001b[0m \u001b[0mcheck_and_get_run_experiment_config\u001b[0m\u001b[0;34m(\u001b[0m\u001b[0mexperiment_config\u001b[0m\u001b[0;34m)\u001b[0m\u001b[0;34m\u001b[0m\u001b[0;34m\u001b[0m\u001b[0m\n\u001b[0;32m--> 667\u001b[0;31m         self.latest_job = ProcessingJob.start_new(\n\u001b[0m\u001b[1;32m    668\u001b[0m             \u001b[0mprocessor\u001b[0m\u001b[0;34m=\u001b[0m\u001b[0mself\u001b[0m\u001b[0;34m,\u001b[0m\u001b[0;34m\u001b[0m\u001b[0;34m\u001b[0m\u001b[0m\n\u001b[1;32m    669\u001b[0m             \u001b[0minputs\u001b[0m\u001b[0;34m=\u001b[0m\u001b[0mnormalized_inputs\u001b[0m\u001b[0;34m,\u001b[0m\u001b[0;34m\u001b[0m\u001b[0;34m\u001b[0m\u001b[0m\n",
      "\u001b[0;32m~/anaconda3/lib/python3.9/site-packages/sagemaker/processing.py\u001b[0m in \u001b[0;36mstart_new\u001b[0;34m(cls, processor, inputs, outputs, experiment_config)\u001b[0m\n\u001b[1;32m    899\u001b[0m \u001b[0;34m\u001b[0m\u001b[0m\n\u001b[1;32m    900\u001b[0m         \u001b[0;31m# Call sagemaker_session.process using the arguments dictionary.\u001b[0m\u001b[0;34m\u001b[0m\u001b[0;34m\u001b[0m\u001b[0m\n\u001b[0;32m--> 901\u001b[0;31m         \u001b[0mprocessor\u001b[0m\u001b[0;34m.\u001b[0m\u001b[0msagemaker_session\u001b[0m\u001b[0;34m.\u001b[0m\u001b[0mprocess\u001b[0m\u001b[0;34m(\u001b[0m\u001b[0;34m**\u001b[0m\u001b[0mprocess_args\u001b[0m\u001b[0;34m)\u001b[0m\u001b[0;34m\u001b[0m\u001b[0;34m\u001b[0m\u001b[0m\n\u001b[0m\u001b[1;32m    902\u001b[0m \u001b[0;34m\u001b[0m\u001b[0m\n\u001b[1;32m    903\u001b[0m         return cls(\n",
      "\u001b[0;32m~/anaconda3/lib/python3.9/site-packages/sagemaker/session.py\u001b[0m in \u001b[0;36mprocess\u001b[0;34m(self, inputs, output_config, job_name, resources, stopping_condition, app_specification, environment, network_config, role_arn, tags, experiment_config)\u001b[0m\n\u001b[1;32m   1271\u001b[0m             \u001b[0mself\u001b[0m\u001b[0;34m.\u001b[0m\u001b[0msagemaker_client\u001b[0m\u001b[0;34m.\u001b[0m\u001b[0mcreate_processing_job\u001b[0m\u001b[0;34m(\u001b[0m\u001b[0;34m**\u001b[0m\u001b[0mrequest\u001b[0m\u001b[0;34m)\u001b[0m\u001b[0;34m\u001b[0m\u001b[0;34m\u001b[0m\u001b[0m\n\u001b[1;32m   1272\u001b[0m \u001b[0;34m\u001b[0m\u001b[0m\n\u001b[0;32m-> 1273\u001b[0;31m         \u001b[0mself\u001b[0m\u001b[0;34m.\u001b[0m\u001b[0m_intercept_create_request\u001b[0m\u001b[0;34m(\u001b[0m\u001b[0mprocess_request\u001b[0m\u001b[0;34m,\u001b[0m \u001b[0msubmit\u001b[0m\u001b[0;34m,\u001b[0m \u001b[0mself\u001b[0m\u001b[0;34m.\u001b[0m\u001b[0mprocess\u001b[0m\u001b[0;34m.\u001b[0m\u001b[0m__name__\u001b[0m\u001b[0;34m)\u001b[0m\u001b[0;34m\u001b[0m\u001b[0;34m\u001b[0m\u001b[0m\n\u001b[0m\u001b[1;32m   1274\u001b[0m \u001b[0;34m\u001b[0m\u001b[0m\n\u001b[1;32m   1275\u001b[0m     def _get_process_request(\n",
      "\u001b[0;32m~/anaconda3/lib/python3.9/site-packages/sagemaker/session.py\u001b[0m in \u001b[0;36m_intercept_create_request\u001b[0;34m(self, request, create, func_name)\u001b[0m\n\u001b[1;32m   5235\u001b[0m             \u001b[0mfunc_name\u001b[0m \u001b[0;34m(\u001b[0m\u001b[0mstr\u001b[0m\u001b[0;34m)\u001b[0m\u001b[0;34m:\u001b[0m \u001b[0mthe\u001b[0m \u001b[0mname\u001b[0m \u001b[0mof\u001b[0m \u001b[0mthe\u001b[0m \u001b[0mfunction\u001b[0m \u001b[0mneeded\u001b[0m \u001b[0mintercepting\u001b[0m\u001b[0;34m\u001b[0m\u001b[0;34m\u001b[0m\u001b[0m\n\u001b[1;32m   5236\u001b[0m         \"\"\"\n\u001b[0;32m-> 5237\u001b[0;31m         \u001b[0;32mreturn\u001b[0m \u001b[0mcreate\u001b[0m\u001b[0;34m(\u001b[0m\u001b[0mrequest\u001b[0m\u001b[0;34m)\u001b[0m\u001b[0;34m\u001b[0m\u001b[0;34m\u001b[0m\u001b[0m\n\u001b[0m\u001b[1;32m   5238\u001b[0m \u001b[0;34m\u001b[0m\u001b[0m\n\u001b[1;32m   5239\u001b[0m     def _create_inference_recommendations_job_request(\n",
      "\u001b[0;32m~/anaconda3/lib/python3.9/site-packages/sagemaker/session.py\u001b[0m in \u001b[0;36msubmit\u001b[0;34m(request)\u001b[0m\n\u001b[1;32m   1269\u001b[0m             \u001b[0mLOGGER\u001b[0m\u001b[0;34m.\u001b[0m\u001b[0minfo\u001b[0m\u001b[0;34m(\u001b[0m\u001b[0;34m\"Creating processing-job with name %s\"\u001b[0m\u001b[0;34m,\u001b[0m \u001b[0mjob_name\u001b[0m\u001b[0;34m)\u001b[0m\u001b[0;34m\u001b[0m\u001b[0;34m\u001b[0m\u001b[0m\n\u001b[1;32m   1270\u001b[0m             \u001b[0mLOGGER\u001b[0m\u001b[0;34m.\u001b[0m\u001b[0mdebug\u001b[0m\u001b[0;34m(\u001b[0m\u001b[0;34m\"process request: %s\"\u001b[0m\u001b[0;34m,\u001b[0m \u001b[0mjson\u001b[0m\u001b[0;34m.\u001b[0m\u001b[0mdumps\u001b[0m\u001b[0;34m(\u001b[0m\u001b[0mrequest\u001b[0m\u001b[0;34m,\u001b[0m \u001b[0mindent\u001b[0m\u001b[0;34m=\u001b[0m\u001b[0;36m4\u001b[0m\u001b[0;34m)\u001b[0m\u001b[0;34m)\u001b[0m\u001b[0;34m\u001b[0m\u001b[0;34m\u001b[0m\u001b[0m\n\u001b[0;32m-> 1271\u001b[0;31m             \u001b[0mself\u001b[0m\u001b[0;34m.\u001b[0m\u001b[0msagemaker_client\u001b[0m\u001b[0;34m.\u001b[0m\u001b[0mcreate_processing_job\u001b[0m\u001b[0;34m(\u001b[0m\u001b[0;34m**\u001b[0m\u001b[0mrequest\u001b[0m\u001b[0;34m)\u001b[0m\u001b[0;34m\u001b[0m\u001b[0;34m\u001b[0m\u001b[0m\n\u001b[0m\u001b[1;32m   1272\u001b[0m \u001b[0;34m\u001b[0m\u001b[0m\n\u001b[1;32m   1273\u001b[0m         \u001b[0mself\u001b[0m\u001b[0;34m.\u001b[0m\u001b[0m_intercept_create_request\u001b[0m\u001b[0;34m(\u001b[0m\u001b[0mprocess_request\u001b[0m\u001b[0;34m,\u001b[0m \u001b[0msubmit\u001b[0m\u001b[0;34m,\u001b[0m \u001b[0mself\u001b[0m\u001b[0;34m.\u001b[0m\u001b[0mprocess\u001b[0m\u001b[0;34m.\u001b[0m\u001b[0m__name__\u001b[0m\u001b[0;34m)\u001b[0m\u001b[0;34m\u001b[0m\u001b[0;34m\u001b[0m\u001b[0m\n",
      "\u001b[0;32m~/anaconda3/lib/python3.9/site-packages/sagemaker/local/local_session.py\u001b[0m in \u001b[0;36mcreate_processing_job\u001b[0;34m(self, ProcessingJobName, AppSpecification, ProcessingResources, Environment, ProcessingInputs, ProcessingOutputConfig, **kwargs)\u001b[0m\n\u001b[1;32m    127\u001b[0m         \u001b[0mprocessing_job\u001b[0m \u001b[0;34m=\u001b[0m \u001b[0m_LocalProcessingJob\u001b[0m\u001b[0;34m(\u001b[0m\u001b[0mcontainer\u001b[0m\u001b[0;34m)\u001b[0m\u001b[0;34m\u001b[0m\u001b[0;34m\u001b[0m\u001b[0m\n\u001b[1;32m    128\u001b[0m         \u001b[0mlogger\u001b[0m\u001b[0;34m.\u001b[0m\u001b[0minfo\u001b[0m\u001b[0;34m(\u001b[0m\u001b[0;34m\"Starting processing job\"\u001b[0m\u001b[0;34m)\u001b[0m\u001b[0;34m\u001b[0m\u001b[0;34m\u001b[0m\u001b[0m\n\u001b[0;32m--> 129\u001b[0;31m         processing_job.start(\n\u001b[0m\u001b[1;32m    130\u001b[0m             \u001b[0mProcessingInputs\u001b[0m\u001b[0;34m,\u001b[0m \u001b[0mProcessingOutputConfig\u001b[0m\u001b[0;34m,\u001b[0m \u001b[0mEnvironment\u001b[0m\u001b[0;34m,\u001b[0m \u001b[0mProcessingJobName\u001b[0m\u001b[0;34m\u001b[0m\u001b[0;34m\u001b[0m\u001b[0m\n\u001b[1;32m    131\u001b[0m         )\n",
      "\u001b[0;32m~/anaconda3/lib/python3.9/site-packages/sagemaker/local/entities.py\u001b[0m in \u001b[0;36mstart\u001b[0;34m(self, processing_inputs, processing_output_config, environment, processing_job_name)\u001b[0m\n\u001b[1;32m    138\u001b[0m         \u001b[0mself\u001b[0m\u001b[0;34m.\u001b[0m\u001b[0menvironment\u001b[0m \u001b[0;34m=\u001b[0m \u001b[0menvironment\u001b[0m\u001b[0;34m\u001b[0m\u001b[0;34m\u001b[0m\u001b[0m\n\u001b[1;32m    139\u001b[0m \u001b[0;34m\u001b[0m\u001b[0m\n\u001b[0;32m--> 140\u001b[0;31m         self.container.process(\n\u001b[0m\u001b[1;32m    141\u001b[0m             \u001b[0mprocessing_inputs\u001b[0m\u001b[0;34m,\u001b[0m \u001b[0mprocessing_output_config\u001b[0m\u001b[0;34m,\u001b[0m \u001b[0menvironment\u001b[0m\u001b[0;34m,\u001b[0m \u001b[0mprocessing_job_name\u001b[0m\u001b[0;34m\u001b[0m\u001b[0;34m\u001b[0m\u001b[0m\n\u001b[1;32m    142\u001b[0m         )\n",
      "\u001b[0;32m~/anaconda3/lib/python3.9/site-packages/sagemaker/local/image.py\u001b[0m in \u001b[0;36mprocess\u001b[0;34m(self, processing_inputs, processing_output_config, environment, processing_job_name)\u001b[0m\n\u001b[1;32m    136\u001b[0m \u001b[0;34m\u001b[0m\u001b[0m\n\u001b[1;32m    137\u001b[0m         \u001b[0mdata_dir\u001b[0m \u001b[0;34m=\u001b[0m \u001b[0mself\u001b[0m\u001b[0;34m.\u001b[0m\u001b[0m_create_tmp_folder\u001b[0m\u001b[0;34m(\u001b[0m\u001b[0;34m)\u001b[0m\u001b[0;34m\u001b[0m\u001b[0;34m\u001b[0m\u001b[0m\n\u001b[0;32m--> 138\u001b[0;31m         volumes = self._prepare_processing_volumes(\n\u001b[0m\u001b[1;32m    139\u001b[0m             \u001b[0mdata_dir\u001b[0m\u001b[0;34m,\u001b[0m \u001b[0mprocessing_inputs\u001b[0m\u001b[0;34m,\u001b[0m \u001b[0mprocessing_output_config\u001b[0m\u001b[0;34m\u001b[0m\u001b[0;34m\u001b[0m\u001b[0m\n\u001b[1;32m    140\u001b[0m         )\n",
      "\u001b[0;32m~/anaconda3/lib/python3.9/site-packages/sagemaker/local/image.py\u001b[0m in \u001b[0;36m_prepare_processing_volumes\u001b[0;34m(self, data_dir, processing_inputs, processing_output_config)\u001b[0m\n\u001b[1;32m    550\u001b[0m             \u001b[0minput_container_dir\u001b[0m \u001b[0;34m=\u001b[0m \u001b[0mitem\u001b[0m\u001b[0;34m[\u001b[0m\u001b[0;34m\"S3Input\"\u001b[0m\u001b[0;34m]\u001b[0m\u001b[0;34m[\u001b[0m\u001b[0;34m\"LocalPath\"\u001b[0m\u001b[0;34m]\u001b[0m\u001b[0;34m\u001b[0m\u001b[0;34m\u001b[0m\u001b[0m\n\u001b[1;32m    551\u001b[0m \u001b[0;34m\u001b[0m\u001b[0m\n\u001b[0;32m--> 552\u001b[0;31m             \u001b[0mdata_source\u001b[0m \u001b[0;34m=\u001b[0m \u001b[0msagemaker\u001b[0m\u001b[0;34m.\u001b[0m\u001b[0mlocal\u001b[0m\u001b[0;34m.\u001b[0m\u001b[0mdata\u001b[0m\u001b[0;34m.\u001b[0m\u001b[0mget_data_source_instance\u001b[0m\u001b[0;34m(\u001b[0m\u001b[0muri\u001b[0m\u001b[0;34m,\u001b[0m \u001b[0mself\u001b[0m\u001b[0;34m.\u001b[0m\u001b[0msagemaker_session\u001b[0m\u001b[0;34m)\u001b[0m\u001b[0;34m\u001b[0m\u001b[0;34m\u001b[0m\u001b[0m\n\u001b[0m\u001b[1;32m    553\u001b[0m             \u001b[0mvolumes\u001b[0m\u001b[0;34m.\u001b[0m\u001b[0mappend\u001b[0m\u001b[0;34m(\u001b[0m\u001b[0m_Volume\u001b[0m\u001b[0;34m(\u001b[0m\u001b[0mdata_source\u001b[0m\u001b[0;34m.\u001b[0m\u001b[0mget_root_dir\u001b[0m\u001b[0;34m(\u001b[0m\u001b[0;34m)\u001b[0m\u001b[0;34m,\u001b[0m \u001b[0minput_container_dir\u001b[0m\u001b[0;34m)\u001b[0m\u001b[0;34m)\u001b[0m\u001b[0;34m\u001b[0m\u001b[0;34m\u001b[0m\u001b[0m\n\u001b[1;32m    554\u001b[0m \u001b[0;34m\u001b[0m\u001b[0m\n",
      "\u001b[0;32m~/anaconda3/lib/python3.9/site-packages/sagemaker/local/data.py\u001b[0m in \u001b[0;36mget_data_source_instance\u001b[0;34m(data_source, sagemaker_session)\u001b[0m\n\u001b[1;32m     52\u001b[0m         \u001b[0;32mreturn\u001b[0m \u001b[0mLocalFileDataSource\u001b[0m\u001b[0;34m(\u001b[0m\u001b[0mparsed_uri\u001b[0m\u001b[0;34m.\u001b[0m\u001b[0mnetloc\u001b[0m \u001b[0;34m+\u001b[0m \u001b[0mparsed_uri\u001b[0m\u001b[0;34m.\u001b[0m\u001b[0mpath\u001b[0m\u001b[0;34m)\u001b[0m\u001b[0;34m\u001b[0m\u001b[0;34m\u001b[0m\u001b[0m\n\u001b[1;32m     53\u001b[0m     \u001b[0;32mif\u001b[0m \u001b[0mparsed_uri\u001b[0m\u001b[0;34m.\u001b[0m\u001b[0mscheme\u001b[0m \u001b[0;34m==\u001b[0m \u001b[0;34m\"s3\"\u001b[0m\u001b[0;34m:\u001b[0m\u001b[0;34m\u001b[0m\u001b[0;34m\u001b[0m\u001b[0m\n\u001b[0;32m---> 54\u001b[0;31m         \u001b[0;32mreturn\u001b[0m \u001b[0mS3DataSource\u001b[0m\u001b[0;34m(\u001b[0m\u001b[0mparsed_uri\u001b[0m\u001b[0;34m.\u001b[0m\u001b[0mnetloc\u001b[0m\u001b[0;34m,\u001b[0m \u001b[0mparsed_uri\u001b[0m\u001b[0;34m.\u001b[0m\u001b[0mpath\u001b[0m\u001b[0;34m,\u001b[0m \u001b[0msagemaker_session\u001b[0m\u001b[0;34m)\u001b[0m\u001b[0;34m\u001b[0m\u001b[0;34m\u001b[0m\u001b[0m\n\u001b[0m\u001b[1;32m     55\u001b[0m     raise ValueError(\n\u001b[1;32m     56\u001b[0m         \u001b[0;34m\"data_source must be either file or s3. parsed_uri.scheme: {}\"\u001b[0m\u001b[0;34m.\u001b[0m\u001b[0mformat\u001b[0m\u001b[0;34m(\u001b[0m\u001b[0mparsed_uri\u001b[0m\u001b[0;34m.\u001b[0m\u001b[0mscheme\u001b[0m\u001b[0;34m)\u001b[0m\u001b[0;34m\u001b[0m\u001b[0;34m\u001b[0m\u001b[0m\n",
      "\u001b[0;32m~/anaconda3/lib/python3.9/site-packages/sagemaker/local/data.py\u001b[0m in \u001b[0;36m__init__\u001b[0;34m(self, bucket, prefix, sagemaker_session)\u001b[0m\n\u001b[1;32m    183\u001b[0m             \u001b[0mworking_dir\u001b[0m \u001b[0;34m=\u001b[0m \u001b[0;34m\"/private{}\"\u001b[0m\u001b[0;34m.\u001b[0m\u001b[0mformat\u001b[0m\u001b[0;34m(\u001b[0m\u001b[0mworking_dir\u001b[0m\u001b[0;34m)\u001b[0m\u001b[0;34m\u001b[0m\u001b[0;34m\u001b[0m\u001b[0m\n\u001b[1;32m    184\u001b[0m \u001b[0;34m\u001b[0m\u001b[0m\n\u001b[0;32m--> 185\u001b[0;31m         \u001b[0msagemaker\u001b[0m\u001b[0;34m.\u001b[0m\u001b[0mutils\u001b[0m\u001b[0;34m.\u001b[0m\u001b[0mdownload_folder\u001b[0m\u001b[0;34m(\u001b[0m\u001b[0mbucket\u001b[0m\u001b[0;34m,\u001b[0m \u001b[0mprefix\u001b[0m\u001b[0;34m,\u001b[0m \u001b[0mworking_dir\u001b[0m\u001b[0;34m,\u001b[0m \u001b[0msagemaker_session\u001b[0m\u001b[0;34m)\u001b[0m\u001b[0;34m\u001b[0m\u001b[0;34m\u001b[0m\u001b[0m\n\u001b[0m\u001b[1;32m    186\u001b[0m         \u001b[0mself\u001b[0m\u001b[0;34m.\u001b[0m\u001b[0mfiles\u001b[0m \u001b[0;34m=\u001b[0m \u001b[0mLocalFileDataSource\u001b[0m\u001b[0;34m(\u001b[0m\u001b[0mworking_dir\u001b[0m\u001b[0;34m)\u001b[0m\u001b[0;34m\u001b[0m\u001b[0;34m\u001b[0m\u001b[0m\n\u001b[1;32m    187\u001b[0m \u001b[0;34m\u001b[0m\u001b[0m\n",
      "\u001b[0;32m~/anaconda3/lib/python3.9/site-packages/sagemaker/utils.py\u001b[0m in \u001b[0;36mdownload_folder\u001b[0;34m(bucket_name, prefix, target, sagemaker_session)\u001b[0m\n\u001b[1;32m    373\u001b[0m                 \u001b[0;32mraise\u001b[0m\u001b[0;34m\u001b[0m\u001b[0;34m\u001b[0m\u001b[0m\n\u001b[1;32m    374\u001b[0m \u001b[0;34m\u001b[0m\u001b[0m\n\u001b[0;32m--> 375\u001b[0;31m     \u001b[0m_download_files_under_prefix\u001b[0m\u001b[0;34m(\u001b[0m\u001b[0mbucket_name\u001b[0m\u001b[0;34m,\u001b[0m \u001b[0mprefix\u001b[0m\u001b[0;34m,\u001b[0m \u001b[0mtarget\u001b[0m\u001b[0;34m,\u001b[0m \u001b[0ms3\u001b[0m\u001b[0;34m)\u001b[0m\u001b[0;34m\u001b[0m\u001b[0;34m\u001b[0m\u001b[0m\n\u001b[0m\u001b[1;32m    376\u001b[0m \u001b[0;34m\u001b[0m\u001b[0m\n\u001b[1;32m    377\u001b[0m \u001b[0;34m\u001b[0m\u001b[0m\n",
      "\u001b[0;32m~/anaconda3/lib/python3.9/site-packages/sagemaker/utils.py\u001b[0m in \u001b[0;36m_download_files_under_prefix\u001b[0;34m(bucket_name, prefix, target, s3)\u001b[0m\n\u001b[1;32m    401\u001b[0m             \u001b[0;32mif\u001b[0m \u001b[0mexc\u001b[0m\u001b[0;34m.\u001b[0m\u001b[0merrno\u001b[0m \u001b[0;34m!=\u001b[0m \u001b[0merrno\u001b[0m\u001b[0;34m.\u001b[0m\u001b[0mEEXIST\u001b[0m\u001b[0;34m:\u001b[0m\u001b[0;34m\u001b[0m\u001b[0;34m\u001b[0m\u001b[0m\n\u001b[1;32m    402\u001b[0m                 \u001b[0;32mraise\u001b[0m\u001b[0;34m\u001b[0m\u001b[0;34m\u001b[0m\u001b[0m\n\u001b[0;32m--> 403\u001b[0;31m         \u001b[0mobj\u001b[0m\u001b[0;34m.\u001b[0m\u001b[0mdownload_file\u001b[0m\u001b[0;34m(\u001b[0m\u001b[0mfile_path\u001b[0m\u001b[0;34m)\u001b[0m\u001b[0;34m\u001b[0m\u001b[0;34m\u001b[0m\u001b[0m\n\u001b[0m\u001b[1;32m    404\u001b[0m \u001b[0;34m\u001b[0m\u001b[0m\n\u001b[1;32m    405\u001b[0m \u001b[0;34m\u001b[0m\u001b[0m\n",
      "\u001b[0;32m~/anaconda3/lib/python3.9/site-packages/boto3/s3/inject.py\u001b[0m in \u001b[0;36mobject_download_file\u001b[0;34m(self, Filename, ExtraArgs, Callback, Config)\u001b[0m\n\u001b[1;32m    357\u001b[0m         \u001b[0mtransfer\u001b[0m\u001b[0;34m.\u001b[0m\u001b[0;34m\u001b[0m\u001b[0;34m\u001b[0m\u001b[0m\n\u001b[1;32m    358\u001b[0m     \"\"\"\n\u001b[0;32m--> 359\u001b[0;31m     return self.meta.client.download_file(\n\u001b[0m\u001b[1;32m    360\u001b[0m         \u001b[0mBucket\u001b[0m\u001b[0;34m=\u001b[0m\u001b[0mself\u001b[0m\u001b[0;34m.\u001b[0m\u001b[0mbucket_name\u001b[0m\u001b[0;34m,\u001b[0m\u001b[0;34m\u001b[0m\u001b[0;34m\u001b[0m\u001b[0m\n\u001b[1;32m    361\u001b[0m         \u001b[0mKey\u001b[0m\u001b[0;34m=\u001b[0m\u001b[0mself\u001b[0m\u001b[0;34m.\u001b[0m\u001b[0mkey\u001b[0m\u001b[0;34m,\u001b[0m\u001b[0;34m\u001b[0m\u001b[0;34m\u001b[0m\u001b[0m\n",
      "\u001b[0;32m~/anaconda3/lib/python3.9/site-packages/boto3/s3/inject.py\u001b[0m in \u001b[0;36mdownload_file\u001b[0;34m(self, Bucket, Key, Filename, ExtraArgs, Callback, Config)\u001b[0m\n\u001b[1;32m    188\u001b[0m     \"\"\"\n\u001b[1;32m    189\u001b[0m     \u001b[0;32mwith\u001b[0m \u001b[0mS3Transfer\u001b[0m\u001b[0;34m(\u001b[0m\u001b[0mself\u001b[0m\u001b[0;34m,\u001b[0m \u001b[0mConfig\u001b[0m\u001b[0;34m)\u001b[0m \u001b[0;32mas\u001b[0m \u001b[0mtransfer\u001b[0m\u001b[0;34m:\u001b[0m\u001b[0;34m\u001b[0m\u001b[0;34m\u001b[0m\u001b[0m\n\u001b[0;32m--> 190\u001b[0;31m         return transfer.download_file(\n\u001b[0m\u001b[1;32m    191\u001b[0m             \u001b[0mbucket\u001b[0m\u001b[0;34m=\u001b[0m\u001b[0mBucket\u001b[0m\u001b[0;34m,\u001b[0m\u001b[0;34m\u001b[0m\u001b[0;34m\u001b[0m\u001b[0m\n\u001b[1;32m    192\u001b[0m             \u001b[0mkey\u001b[0m\u001b[0;34m=\u001b[0m\u001b[0mKey\u001b[0m\u001b[0;34m,\u001b[0m\u001b[0;34m\u001b[0m\u001b[0;34m\u001b[0m\u001b[0m\n",
      "\u001b[0;32m~/anaconda3/lib/python3.9/site-packages/boto3/s3/transfer.py\u001b[0m in \u001b[0;36mdownload_file\u001b[0;34m(self, bucket, key, filename, extra_args, callback)\u001b[0m\n\u001b[1;32m    324\u001b[0m         )\n\u001b[1;32m    325\u001b[0m         \u001b[0;32mtry\u001b[0m\u001b[0;34m:\u001b[0m\u001b[0;34m\u001b[0m\u001b[0;34m\u001b[0m\u001b[0m\n\u001b[0;32m--> 326\u001b[0;31m             \u001b[0mfuture\u001b[0m\u001b[0;34m.\u001b[0m\u001b[0mresult\u001b[0m\u001b[0;34m(\u001b[0m\u001b[0;34m)\u001b[0m\u001b[0;34m\u001b[0m\u001b[0;34m\u001b[0m\u001b[0m\n\u001b[0m\u001b[1;32m    327\u001b[0m         \u001b[0;31m# This is for backwards compatibility where when retries are\u001b[0m\u001b[0;34m\u001b[0m\u001b[0;34m\u001b[0m\u001b[0m\n\u001b[1;32m    328\u001b[0m         \u001b[0;31m# exceeded we need to throw the same error from boto3 instead of\u001b[0m\u001b[0;34m\u001b[0m\u001b[0;34m\u001b[0m\u001b[0m\n",
      "\u001b[0;32m~/anaconda3/lib/python3.9/site-packages/s3transfer/futures.py\u001b[0m in \u001b[0;36mresult\u001b[0;34m(self)\u001b[0m\n\u001b[1;32m    104\u001b[0m         \u001b[0;32mexcept\u001b[0m \u001b[0mKeyboardInterrupt\u001b[0m \u001b[0;32mas\u001b[0m \u001b[0me\u001b[0m\u001b[0;34m:\u001b[0m\u001b[0;34m\u001b[0m\u001b[0;34m\u001b[0m\u001b[0m\n\u001b[1;32m    105\u001b[0m             \u001b[0mself\u001b[0m\u001b[0;34m.\u001b[0m\u001b[0mcancel\u001b[0m\u001b[0;34m(\u001b[0m\u001b[0;34m)\u001b[0m\u001b[0;34m\u001b[0m\u001b[0;34m\u001b[0m\u001b[0m\n\u001b[0;32m--> 106\u001b[0;31m             \u001b[0;32mraise\u001b[0m \u001b[0me\u001b[0m\u001b[0;34m\u001b[0m\u001b[0;34m\u001b[0m\u001b[0m\n\u001b[0m\u001b[1;32m    107\u001b[0m \u001b[0;34m\u001b[0m\u001b[0m\n\u001b[1;32m    108\u001b[0m     \u001b[0;32mdef\u001b[0m \u001b[0mcancel\u001b[0m\u001b[0;34m(\u001b[0m\u001b[0mself\u001b[0m\u001b[0;34m)\u001b[0m\u001b[0;34m:\u001b[0m\u001b[0;34m\u001b[0m\u001b[0;34m\u001b[0m\u001b[0m\n",
      "\u001b[0;32m~/anaconda3/lib/python3.9/site-packages/s3transfer/futures.py\u001b[0m in \u001b[0;36mresult\u001b[0;34m(self)\u001b[0m\n\u001b[1;32m    101\u001b[0m             \u001b[0;31m# however if a KeyboardInterrupt is raised we want want to exit\u001b[0m\u001b[0;34m\u001b[0m\u001b[0;34m\u001b[0m\u001b[0m\n\u001b[1;32m    102\u001b[0m             \u001b[0;31m# out of this and propagate the exception.\u001b[0m\u001b[0;34m\u001b[0m\u001b[0;34m\u001b[0m\u001b[0m\n\u001b[0;32m--> 103\u001b[0;31m             \u001b[0;32mreturn\u001b[0m \u001b[0mself\u001b[0m\u001b[0;34m.\u001b[0m\u001b[0m_coordinator\u001b[0m\u001b[0;34m.\u001b[0m\u001b[0mresult\u001b[0m\u001b[0;34m(\u001b[0m\u001b[0;34m)\u001b[0m\u001b[0;34m\u001b[0m\u001b[0;34m\u001b[0m\u001b[0m\n\u001b[0m\u001b[1;32m    104\u001b[0m         \u001b[0;32mexcept\u001b[0m \u001b[0mKeyboardInterrupt\u001b[0m \u001b[0;32mas\u001b[0m \u001b[0me\u001b[0m\u001b[0;34m:\u001b[0m\u001b[0;34m\u001b[0m\u001b[0;34m\u001b[0m\u001b[0m\n\u001b[1;32m    105\u001b[0m             \u001b[0mself\u001b[0m\u001b[0;34m.\u001b[0m\u001b[0mcancel\u001b[0m\u001b[0;34m(\u001b[0m\u001b[0;34m)\u001b[0m\u001b[0;34m\u001b[0m\u001b[0;34m\u001b[0m\u001b[0m\n",
      "\u001b[0;32m~/anaconda3/lib/python3.9/site-packages/s3transfer/futures.py\u001b[0m in \u001b[0;36mresult\u001b[0;34m(self)\u001b[0m\n\u001b[1;32m    259\u001b[0m         \u001b[0;31m# possible value integer value, which is on the scale of billions of\u001b[0m\u001b[0;34m\u001b[0m\u001b[0;34m\u001b[0m\u001b[0m\n\u001b[1;32m    260\u001b[0m         \u001b[0;31m# years...\u001b[0m\u001b[0;34m\u001b[0m\u001b[0;34m\u001b[0m\u001b[0m\n\u001b[0;32m--> 261\u001b[0;31m         \u001b[0mself\u001b[0m\u001b[0;34m.\u001b[0m\u001b[0m_done_event\u001b[0m\u001b[0;34m.\u001b[0m\u001b[0mwait\u001b[0m\u001b[0;34m(\u001b[0m\u001b[0mMAXINT\u001b[0m\u001b[0;34m)\u001b[0m\u001b[0;34m\u001b[0m\u001b[0;34m\u001b[0m\u001b[0m\n\u001b[0m\u001b[1;32m    262\u001b[0m \u001b[0;34m\u001b[0m\u001b[0m\n\u001b[1;32m    263\u001b[0m         \u001b[0;31m# Once done waiting, raise an exception if present or return the\u001b[0m\u001b[0;34m\u001b[0m\u001b[0;34m\u001b[0m\u001b[0m\n",
      "\u001b[0;32m~/anaconda3/lib/python3.9/threading.py\u001b[0m in \u001b[0;36mwait\u001b[0;34m(self, timeout)\u001b[0m\n\u001b[1;32m    579\u001b[0m             \u001b[0msignaled\u001b[0m \u001b[0;34m=\u001b[0m \u001b[0mself\u001b[0m\u001b[0;34m.\u001b[0m\u001b[0m_flag\u001b[0m\u001b[0;34m\u001b[0m\u001b[0;34m\u001b[0m\u001b[0m\n\u001b[1;32m    580\u001b[0m             \u001b[0;32mif\u001b[0m \u001b[0;32mnot\u001b[0m \u001b[0msignaled\u001b[0m\u001b[0;34m:\u001b[0m\u001b[0;34m\u001b[0m\u001b[0;34m\u001b[0m\u001b[0m\n\u001b[0;32m--> 581\u001b[0;31m                 \u001b[0msignaled\u001b[0m \u001b[0;34m=\u001b[0m \u001b[0mself\u001b[0m\u001b[0;34m.\u001b[0m\u001b[0m_cond\u001b[0m\u001b[0;34m.\u001b[0m\u001b[0mwait\u001b[0m\u001b[0;34m(\u001b[0m\u001b[0mtimeout\u001b[0m\u001b[0;34m)\u001b[0m\u001b[0;34m\u001b[0m\u001b[0;34m\u001b[0m\u001b[0m\n\u001b[0m\u001b[1;32m    582\u001b[0m             \u001b[0;32mreturn\u001b[0m \u001b[0msignaled\u001b[0m\u001b[0;34m\u001b[0m\u001b[0;34m\u001b[0m\u001b[0m\n\u001b[1;32m    583\u001b[0m \u001b[0;34m\u001b[0m\u001b[0m\n",
      "\u001b[0;32m~/anaconda3/lib/python3.9/threading.py\u001b[0m in \u001b[0;36mwait\u001b[0;34m(self, timeout)\u001b[0m\n\u001b[1;32m    310\u001b[0m         \u001b[0;32mtry\u001b[0m\u001b[0;34m:\u001b[0m    \u001b[0;31m# restore state no matter what (e.g., KeyboardInterrupt)\u001b[0m\u001b[0;34m\u001b[0m\u001b[0;34m\u001b[0m\u001b[0m\n\u001b[1;32m    311\u001b[0m             \u001b[0;32mif\u001b[0m \u001b[0mtimeout\u001b[0m \u001b[0;32mis\u001b[0m \u001b[0;32mNone\u001b[0m\u001b[0;34m:\u001b[0m\u001b[0;34m\u001b[0m\u001b[0;34m\u001b[0m\u001b[0m\n\u001b[0;32m--> 312\u001b[0;31m                 \u001b[0mwaiter\u001b[0m\u001b[0;34m.\u001b[0m\u001b[0macquire\u001b[0m\u001b[0;34m(\u001b[0m\u001b[0;34m)\u001b[0m\u001b[0;34m\u001b[0m\u001b[0;34m\u001b[0m\u001b[0m\n\u001b[0m\u001b[1;32m    313\u001b[0m                 \u001b[0mgotit\u001b[0m \u001b[0;34m=\u001b[0m \u001b[0;32mTrue\u001b[0m\u001b[0;34m\u001b[0m\u001b[0;34m\u001b[0m\u001b[0m\n\u001b[1;32m    314\u001b[0m             \u001b[0;32melse\u001b[0m\u001b[0;34m:\u001b[0m\u001b[0;34m\u001b[0m\u001b[0;34m\u001b[0m\u001b[0m\n",
      "\u001b[0;31mKeyboardInterrupt\u001b[0m: "
     ]
    }
   ],
   "source": [
    "%%time\n",
    "# Run the processing job\n",
    "data_preprocessor.run(\n",
    "    code='preprocessing.py',\n",
    "    source_dir='./',\n",
    "    inputs=[\n",
    "        ProcessingInput(\n",
    "            input_name='manifest',\n",
    "            source='s3://computer-vision-bootcamp/new_dataset/supermarket-dataset/manifests/output/output.manifest',\n",
    "            destination='/opt/ml/processing/input/manifest'\n",
    "        ),\n",
    "        ProcessingInput(\n",
    "            input_name='images',\n",
    "            source=f\"s3://computer-vision-bootcamp/new_dataset/\",\n",
    "            destination='/opt/ml/processing/input/images'\n",
    "        )\n",
    "    ],\n",
    "    outputs=[\n",
    "        ProcessingOutput(\n",
    "            output_name='manifests',\n",
    "            source='/opt/ml/processing/output/manifests',\n",
    "            destination=f's3://computer-vision-bootcamp/prepared_data/manifests/'\n",
    "        ),\n",
    "        ProcessingOutput(\n",
    "            output_name='augmented_train_images',\n",
    "            source='/opt/ml/processing/output/augmented_train_images',\n",
    "            destination=f's3://computer-vision-bootcamp/prepared_data/train/images/'\n",
    "        ),\n",
    "        ProcessingOutput(\n",
    "            output_name='augmented_validation_images',\n",
    "            source='/opt/ml/processing/output/augmented_validation_images',\n",
    "            destination=f's3://computer-vision-bootcamp/prepared_data/validation/images/'\n",
    "        ),\n",
    "        ProcessingOutput(\n",
    "            output_name='augmented_test_images',\n",
    "            source='/opt/ml/processing/output/augmented_test_images',\n",
    "            destination=f's3://computer-vision-bootcamp/prepared_data/test/images/'\n",
    "        )\n",
    "    ],\n",
    "    arguments=[\n",
    "        \"--num_augmentations_per_img\", str(5),\n",
    "        \"--output_s3_bucket_name\", 'computer-vision-bootcamp'\n",
    "    ]\n",
    ")"
   ]
  },
  {
   "cell_type": "code",
   "execution_count": 112,
   "id": "41bb4a6d",
   "metadata": {},
   "outputs": [
    {
     "name": "stdout",
     "output_type": "stream",
     "text": [
      "[{'image_path': 's3://computer-vision-bootcamp/new_dataset/10.jpg', 'annotation': [{'top': 1045, 'left': 975, 'height': 402, 'width': 685, 'class_id': 3}]}, {'image_path': 's3://computer-vision-bootcamp/new_dataset/11.jpg', 'annotation': [{'top': 825, 'left': 1194, 'height': 601, 'width': 278, 'class_id': 3}]}, {'image_path': 's3://computer-vision-bootcamp/new_dataset/12.jpg', 'annotation': [{'top': 820, 'left': 917, 'height': 580, 'width': 680, 'class_id': 4}]}, {'image_path': 's3://computer-vision-bootcamp/new_dataset/13.jpg', 'annotation': [{'top': 841, 'left': 927, 'height': 559, 'width': 681, 'class_id': 4}]}, {'image_path': 's3://computer-vision-bootcamp/new_dataset/14.jpg', 'annotation': [{'top': 778, 'left': 1053, 'height': 732, 'width': 560, 'class_id': 4}]}, {'image_path': 's3://computer-vision-bootcamp/new_dataset/15.jpg', 'annotation': [{'top': 653, 'left': 1147, 'height': 888, 'width': 403, 'class_id': 4}]}, {'image_path': 's3://computer-vision-bootcamp/new_dataset/16.jpg', 'annotation': [{'top': 966, 'left': 995, 'height': 340, 'width': 670, 'class_id': 1}]}, {'image_path': 's3://computer-vision-bootcamp/new_dataset/17.jpg', 'annotation': [{'top': 956, 'left': 1011, 'height': 387, 'width': 660, 'class_id': 1}]}, {'image_path': 's3://computer-vision-bootcamp/new_dataset/18.jpg', 'annotation': [{'top': 951, 'left': 1053, 'height': 371, 'width': 607, 'class_id': 1}, {'top': 1343, 'left': 985, 'height': 438, 'width': 712, 'class_id': 1}]}, {'image_path': 's3://computer-vision-bootcamp/new_dataset/19.jpg', 'annotation': [{'top': 977, 'left': 1058, 'height': 292, 'width': 592, 'class_id': 1}, {'top': 1264, 'left': 1168, 'height': 497, 'width': 314, 'class_id': 1}]}, {'image_path': 's3://computer-vision-bootcamp/new_dataset/2.jpg', 'annotation': [{'top': 229, 'left': 1179, 'height': 868, 'width': 387, 'class_id': 0}]}, {'image_path': 's3://computer-vision-bootcamp/new_dataset/20.jpg', 'annotation': [{'top': 736, 'left': 776, 'height': 738, 'width': 508, 'class_id': 5}, {'top': 1086, 'left': 1404, 'height': 372, 'width': 675, 'class_id': 1}]}, {'image_path': 's3://computer-vision-bootcamp/new_dataset/21.jpg', 'annotation': [{'top': 742, 'left': 1189, 'height': 794, 'width': 419, 'class_id': 5}]}, {'image_path': 's3://computer-vision-bootcamp/new_dataset/22.jpg', 'annotation': [{'top': 789, 'left': 634, 'height': 580, 'width': 607, 'class_id': 2}, {'top': 668, 'left': 1419, 'height': 711, 'width': 513, 'class_id': 5}]}, {'image_path': 's3://computer-vision-bootcamp/new_dataset/23.jpg', 'annotation': [{'top': 867, 'left': 681, 'height': 570, 'width': 597, 'class_id': 2}, {'top': 789, 'left': 1383, 'height': 637, 'width': 738, 'class_id': 4}]}, {'image_path': 's3://computer-vision-bootcamp/new_dataset/24.jpg', 'annotation': [{'top': 10, 'left': 954, 'height': 805, 'width': 466, 'class_id': 0}, {'top': 862, 'left': 666, 'height': 543, 'width': 633, 'class_id': 2}, {'top': 783, 'left': 1446, 'height': 659, 'width': 670, 'class_id': 4}]}, {'image_path': 's3://computer-vision-bootcamp/new_dataset/25.jpg', 'annotation': [{'top': 10, 'left': 964, 'height': 820, 'width': 413, 'class_id': 0}, {'top': 595, 'left': 1550, 'height': 272, 'width': 586, 'class_id': 1}, {'top': 1478, 'left': 1053, 'height': 460, 'width': 706, 'class_id': 1}, {'top': 867, 'left': 666, 'height': 528, 'width': 623, 'class_id': 2}]}, {'image_path': 's3://computer-vision-bootcamp/new_dataset/26.jpg', 'annotation': [{'top': 15, 'left': 959, 'height': 836, 'width': 418, 'class_id': 0}, {'top': 595, 'left': 1550, 'height': 298, 'width': 623, 'class_id': 1}, {'top': 1572, 'left': 854, 'height': 372, 'width': 769, 'class_id': 1}, {'top': 757, 'left': 1519, 'height': 810, 'width': 622, 'class_id': 4}]}, {'image_path': 's3://computer-vision-bootcamp/new_dataset/27.jpg', 'annotation': [{'top': 10, 'left': 959, 'height': 847, 'width': 418, 'class_id': 0}, {'top': 658, 'left': 770, 'height': 768, 'width': 466, 'class_id': 2}, {'top': 653, 'left': 1461, 'height': 716, 'width': 518, 'class_id': 5}, {'top': 595, 'left': 1932, 'height': 329, 'width': 241, 'class_id': 1}]}, {'image_path': 's3://computer-vision-bootcamp/new_dataset/28.jpg', 'annotation': [{'top': 485, 'left': 954, 'height': 816, 'width': 408, 'class_id': 0}, {'top': 768, 'left': 1377, 'height': 601, 'width': 513, 'class_id': 2}, {'top': 684, 'left': 326, 'height': 606, 'width': 738, 'class_id': 4}, {'top': 638, 'left': 1907, 'height': 835, 'width': 517, 'class_id': 5}]}, {'image_path': 's3://computer-vision-bootcamp/new_dataset/29.jpg', 'annotation': [{'top': 0, 'left': 975, 'height': 747, 'width': 371, 'class_id': 0}, {'top': 224, 'left': 1393, 'height': 606, 'width': 487, 'class_id': 2}, {'top': 88, 'left': 368, 'height': 659, 'width': 664, 'class_id': 4}, {'top': 135, 'left': 1885, 'height': 690, 'width': 513, 'class_id': 5}]}, {'image_path': 's3://computer-vision-bootcamp/new_dataset/3.jpg', 'annotation': [{'top': 203, 'left': 1152, 'height': 904, 'width': 445, 'class_id': 0}]}, {'image_path': 's3://computer-vision-bootcamp/new_dataset/30.jpg', 'annotation': [{'top': 559, 'left': 1, 'height': 334, 'width': 749, 'class_id': 1}, {'top': 909, 'left': 237, 'height': 120, 'width': 586, 'class_id': 1}, {'top': 391, 'left': 650, 'height': 690, 'width': 612, 'class_id': 4}, {'top': 360, 'left': 2001, 'height': 758, 'width': 580, 'class_id': 5}, {'top': 496, 'left': 1597, 'height': 591, 'width': 539, 'class_id': 2}, {'top': 182, 'left': 1241, 'height': 857, 'width': 372, 'class_id': 0}]}, {'image_path': 's3://computer-vision-bootcamp/new_dataset/33.jpg', 'annotation': [{'top': 344, 'left': 1, 'height': 1579, 'width': 440, 'class_id': 5}, {'top': 355, 'left': 1890, 'height': 1568, 'width': 702, 'class_id': 5}, {'top': 31, 'left': 535, 'height': 1871, 'width': 581, 'class_id': 0}, {'top': 548, 'left': 1137, 'height': 1385, 'width': 994, 'class_id': 2}]}, {'image_path': 's3://computer-vision-bootcamp/new_dataset/34.jpg', 'annotation': [{'top': 491, 'left': 896, 'height': 1113, 'width': 408, 'class_id': 0}, {'top': 935, 'left': 1299, 'height': 721, 'width': 461, 'class_id': 2}, {'top': 1003, 'left': 1, 'height': 298, 'width': 387, 'class_id': 1}, {'top': 1301, 'left': 0, 'height': 308, 'width': 362, 'class_id': 1}, {'top': 846, 'left': 352, 'height': 805, 'width': 597, 'class_id': 4}, {'top': 820, 'left': 1712, 'height': 831, 'width': 435, 'class_id': 5}]}, {'image_path': 's3://computer-vision-bootcamp/new_dataset/35.jpg', 'annotation': [{'top': 982, 'left': 74, 'height': 324, 'width': 655, 'class_id': 1}, {'top': 1290, 'left': 27, 'height': 319, 'width': 670, 'class_id': 1}, {'top': 930, 'left': 1566, 'height': 737, 'width': 549, 'class_id': 2}, {'top': 506, 'left': 1226, 'height': 1134, 'width': 376, 'class_id': 0}, {'top': 862, 'left': 697, 'height': 773, 'width': 565, 'class_id': 4}, {'top': 825, 'left': 1964, 'height': 821, 'width': 491, 'class_id': 5}]}, {'image_path': 's3://computer-vision-bootcamp/new_dataset/36.jpg', 'annotation': [{'top': 762, 'left': 1084, 'height': 910, 'width': 387, 'class_id': 5}]}, {'image_path': 's3://computer-vision-bootcamp/new_dataset/37.jpg', 'annotation': [{'top': 470, 'left': 1142, 'height': 1181, 'width': 419, 'class_id': 0}]}, {'image_path': 's3://computer-vision-bootcamp/new_dataset/38.jpg', 'annotation': [{'top': 888, 'left': 1105, 'height': 758, 'width': 555, 'class_id': 2}]}, {'image_path': 's3://computer-vision-bootcamp/new_dataset/39.jpg', 'annotation': [{'top': 888, 'left': 1069, 'height': 794, 'width': 513, 'class_id': 2}]}, {'image_path': 's3://computer-vision-bootcamp/new_dataset/4.jpg', 'annotation': [{'top': 318, 'left': 1058, 'height': 868, 'width': 466, 'class_id': 0}]}, {'image_path': 's3://computer-vision-bootcamp/new_dataset/40.jpg', 'annotation': [{'top': 1301, 'left': 1043, 'height': 376, 'width': 628, 'class_id': 2}]}, {'image_path': 's3://computer-vision-bootcamp/new_dataset/41.jpg', 'annotation': [{'top': 1290, 'left': 917, 'height': 366, 'width': 706, 'class_id': 1}]}, {'image_path': 's3://computer-vision-bootcamp/new_dataset/42.jpg', 'annotation': [{'top': 1259, 'left': 907, 'height': 413, 'width': 570, 'class_id': 1}]}, {'image_path': 's3://computer-vision-bootcamp/new_dataset/43.jpg', 'annotation': [{'top': 825, 'left': 1037, 'height': 831, 'width': 634, 'class_id': 4}]}, {'image_path': 's3://computer-vision-bootcamp/new_dataset/44.jpg', 'annotation': [{'top': 799, 'left': 1048, 'height': 868, 'width': 654, 'class_id': 4}]}, {'image_path': 's3://computer-vision-bootcamp/new_dataset/45.jpg', 'annotation': [{'top': 893, 'left': 744, 'height': 768, 'width': 544, 'class_id': 2}, {'top': 815, 'left': 1252, 'height': 846, 'width': 602, 'class_id': 4}]}, {'image_path': 's3://computer-vision-bootcamp/new_dataset/46.jpg', 'annotation': [{'top': 1280, 'left': 838, 'height': 496, 'width': 1005, 'class_id': 1}, {'top': 883, 'left': 760, 'height': 757, 'width': 523, 'class_id': 2}, {'top': 820, 'left': 1273, 'height': 502, 'width': 570, 'class_id': 4}]}, {'image_path': 's3://computer-vision-bootcamp/new_dataset/47.jpg', 'annotation': [{'top': 449, 'left': 854, 'height': 846, 'width': 366, 'class_id': 0}, {'top': 1254, 'left': 838, 'height': 522, 'width': 995, 'class_id': 1}, {'top': 820, 'left': 1262, 'height': 470, 'width': 586, 'class_id': 4}]}, {'image_path': 's3://computer-vision-bootcamp/new_dataset/48.jpg', 'annotation': [{'top': 444, 'left': 802, 'height': 1202, 'width': 419, 'class_id': 0}, {'top': 930, 'left': 0, 'height': 360, 'width': 781, 'class_id': 1}, {'top': 1259, 'left': 6, 'height': 397, 'width': 780, 'class_id': 1}, {'top': 815, 'left': 1262, 'height': 857, 'width': 644, 'class_id': 4}]}, {'image_path': 's3://computer-vision-bootcamp/new_dataset/49.jpg', 'annotation': [{'top': 924, 'left': 190, 'height': 361, 'width': 753, 'class_id': 1}, {'top': 1280, 'left': 148, 'height': 371, 'width': 800, 'class_id': 1}, {'top': 459, 'left': 964, 'height': 1181, 'width': 346, 'class_id': 0}, {'top': 872, 'left': 1257, 'height': 800, 'width': 602, 'class_id': 2}]}, {'image_path': 's3://computer-vision-bootcamp/new_dataset/5.jpg', 'annotation': [{'top': 323, 'left': 1074, 'height': 868, 'width': 455, 'class_id': 0}]}, {'image_path': 's3://computer-vision-bootcamp/new_dataset/50.jpg', 'annotation': [{'top': 465, 'left': 755, 'height': 1175, 'width': 424, 'class_id': 0}, {'top': 747, 'left': 1278, 'height': 904, 'width': 403, 'class_id': 5}]}, {'image_path': 's3://computer-vision-bootcamp/new_dataset/51.jpg', 'annotation': [{'top': 470, 'left': 770, 'height': 799, 'width': 388, 'class_id': 0}, {'top': 1228, 'left': 566, 'height': 653, 'width': 1277, 'class_id': 1}, {'top': 736, 'left': 6, 'height': 967, 'width': 576, 'class_id': 2}, {'top': 684, 'left': 1137, 'height': 580, 'width': 424, 'class_id': 5}]}, {'image_path': 's3://computer-vision-bootcamp/new_dataset/6.jpg', 'annotation': [{'top': 637, 'left': 1001, 'height': 596, 'width': 591, 'class_id': 2}]}, {'image_path': 's3://computer-vision-bootcamp/new_dataset/7.jpg', 'annotation': [{'top': 637, 'left': 1037, 'height': 685, 'width': 466, 'class_id': 2}]}, {'image_path': 's3://computer-vision-bootcamp/new_dataset/8.jpg', 'annotation': [{'top': 595, 'left': 1184, 'height': 795, 'width': 262, 'class_id': 2}]}, {'image_path': 's3://computer-vision-bootcamp/new_dataset/9.jpg', 'annotation': [{'top': 966, 'left': 938, 'height': 335, 'width': 701, 'class_id': 3}]}, {'image_path': 's3://computer-vision-bootcamp/new_dataset/first_image.jpg', 'annotation': [{'top': 214, 'left': 1116, 'height': 862, 'width': 455, 'class_id': 0}]}]\n"
     ]
    },
    {
     "ename": "TypeError",
     "evalue": "list indices must be integers or slices, not str",
     "output_type": "error",
     "traceback": [
      "\u001b[0;31m---------------------------------------------------------------------------\u001b[0m",
      "\u001b[0;31mTypeError\u001b[0m                                 Traceback (most recent call last)",
      "\u001b[0;32m/tmp/ipykernel_62853/1041451338.py\u001b[0m in \u001b[0;36m<module>\u001b[0;34m\u001b[0m\n\u001b[1;32m      1\u001b[0m \u001b[0;32mimport\u001b[0m \u001b[0mos\u001b[0m\u001b[0;34m\u001b[0m\u001b[0;34m\u001b[0m\u001b[0m\n\u001b[1;32m      2\u001b[0m \u001b[0mprint\u001b[0m\u001b[0;34m(\u001b[0m\u001b[0mdata\u001b[0m\u001b[0;34m)\u001b[0m\u001b[0;34m\u001b[0m\u001b[0;34m\u001b[0m\u001b[0m\n\u001b[0;32m----> 3\u001b[0;31m \u001b[0mbbox\u001b[0m\u001b[0;34m,\u001b[0m \u001b[0mclasses\u001b[0m \u001b[0;34m=\u001b[0m \u001b[0mextract_bboxes_and_class_ids\u001b[0m\u001b[0;34m(\u001b[0m\u001b[0mdata\u001b[0m\u001b[0;34m[\u001b[0m\u001b[0;34m\"annotations\"\u001b[0m\u001b[0;34m]\u001b[0m\u001b[0;34m)\u001b[0m\u001b[0;34m\u001b[0m\u001b[0;34m\u001b[0m\u001b[0m\n\u001b[0m\u001b[1;32m      4\u001b[0m \u001b[0mprint\u001b[0m\u001b[0;34m(\u001b[0m\u001b[0mbbox\u001b[0m\u001b[0;34m)\u001b[0m\u001b[0;34m\u001b[0m\u001b[0;34m\u001b[0m\u001b[0m\n\u001b[1;32m      5\u001b[0m \u001b[0mimg_name\u001b[0m \u001b[0;34m=\u001b[0m \u001b[0mdata\u001b[0m\u001b[0;34m[\u001b[0m\u001b[0;34m'image_path'\u001b[0m\u001b[0;34m]\u001b[0m\u001b[0;34m.\u001b[0m\u001b[0msplit\u001b[0m\u001b[0;34m(\u001b[0m\u001b[0;34m'/'\u001b[0m\u001b[0;34m)\u001b[0m\u001b[0;34m[\u001b[0m\u001b[0;34m-\u001b[0m\u001b[0;36m1\u001b[0m\u001b[0;34m]\u001b[0m\u001b[0;34m\u001b[0m\u001b[0;34m\u001b[0m\u001b[0m\n",
      "\u001b[0;31mTypeError\u001b[0m: list indices must be integers or slices, not str"
     ]
    }
   ],
   "source": [
    "import os\n",
    "print(data)\n",
    "bbox, classes = extract_bboxes_and_class_ids(data[\"annotations\"])\n",
    "print(bbox)\n",
    "img_name = data['image_path'].split('/')[-1]\n",
    "img_name = base_img_path + img_name\n",
    "print(img_name)\n",
    "img = cv2.imread(img_name)\n",
    "visualize(img, bbox, classes,mapper,True,'test3.jpg' )"
   ]
  },
  {
   "cell_type": "code",
   "execution_count": 113,
   "id": "b7a3432b",
   "metadata": {},
   "outputs": [],
   "source": [
    "\n",
    "def extract_bboxes_and_class_ids(ground_truth_annotations):\n",
    "    '''\n",
    "    Description : Because of albumation we need to get bboxes and class_ids in seperatelists\n",
    "    as albumation need data in that format\n",
    "    \n",
    "    inputs : dict contains bbox and class_ids\n",
    "    \n",
    "    output : - list of lists that contains bbox\n",
    "             - list of class_ids   \n",
    "    '''\n",
    "    bboxes = []\n",
    "    class_ids = []\n",
    "    for gt_bbox in ground_truth_annotations:\n",
    "        xmin = gt_bbox[\"left\"]\n",
    "        ymin = gt_bbox[\"top\"]\n",
    "        width = gt_bbox[\"width\"]\n",
    "        height = gt_bbox[\"height\"]\n",
    "        bboxes.append([xmin, ymin, width, height])\n",
    "        class_ids.append(gt_bbox[\"class_id\"])\n",
    "    return bboxes, class_ids\n",
    "\n",
    "\n",
    "\n",
    "def read_json_file(path) : \n",
    "    '''\n",
    "    description : function takes path to json file and return data as list \n",
    "    inputs : path as (str) \n",
    "    outputs : List that contains data\n",
    "    \n",
    "    '''\n",
    "    manifest_file = []\n",
    "    with open(path) as f :\n",
    "        for line in f :\n",
    "            manifest_file.append(json.loads(line))\n",
    "    return manifest_file\n",
    "\n",
    "\n",
    "\n",
    "\n",
    "def extract_data_from_ground_truth_json(path):\n",
    "    '''\n",
    "        discription : This function take as input path to json file  \n",
    "        input : path to json file\n",
    "        output:\n",
    "            -> list that contains dictionary of \n",
    "                                                image_path:(string) & annotaions(list)\n",
    "            -> sorted dictionary of label mapped to names\n",
    "    '''\n",
    "    manifest_file = read_json_file(path)\n",
    "    extracted_data = []\n",
    "    class_id_to_name_map = {}\n",
    "    # extract data from json file \n",
    "    for i in manifest_file :\n",
    "        data = {}\n",
    "        data['image_path']=i['source-ref']\n",
    "        annotations =[]\n",
    "# note that next time remmeber not to agnore label job name and incluse it \n",
    "        for x in i['supermarket-dataset']['annotations'] :\n",
    "            annotation = {}\n",
    "            annotation['top'] = x['top']\n",
    "            annotation['left'] = x['left']\n",
    "            annotation['height'] = x['height']\n",
    "            annotation['width'] = x['width']\n",
    "            annotation['class_id'] = x['class_id']\n",
    "\n",
    "            annotations.append(annotation)\n",
    "        data['annotation'] = annotations\n",
    "        extracted_data.append(data)\n",
    "        \n",
    "        class_id_to_map = {int(k): v for k, v in i['supermarket-dataset-metadata']['class-map'].items()}\n",
    "        class_id_to_name_map.update(class_id_to_map)\n",
    "    return extracted_data, dict(sorted(class_id_to_name_map.items()))\n"
   ]
  },
  {
   "cell_type": "code",
   "execution_count": 169,
   "id": "16e4a775",
   "metadata": {},
   "outputs": [
    {
     "name": "stdout",
     "output_type": "stream",
     "text": [
      "{'image_id': 28, 'category_id': 2, 'bbox': [0.26273148148148145, 0.44598765432098764, 0.4930555555555556, 0.7391975308641975]}\n",
      "{'image_id': 28, 'category_id': 2, 'bbox': [0.26273148148148145, 0.44598765432098764, 0.4930555555555556, 0.7391975308641975]}\n",
      "{'image_id': 28, 'category_id': 2, 'bbox': [0.26273148148148145, 0.44598765432098764, 0.4930555555555556, 0.7391975308641975]}\n",
      "{'image_id': 28, 'category_id': 2, 'bbox': [0.26273148148148145, 0.44598765432098764, 0.4930555555555556, 0.7391975308641975]}\n"
     ]
    }
   ],
   "source": [
    "base_dir = '/home/hekal/Downloads/computer_vision_at_the_edge_labs/manuf1-manufacturing-production-line-defect-detection/03-data-preparation/test-dir/train/'\n",
    "file_path = base_dir + 'annotations.json'\n",
    "def extract_bboxes_and_class_ids_coco(ground_truth_annotations):\n",
    "    '''\n",
    "    Description : Because of albumation we need to get bboxes and class_ids in seperatelists\n",
    "    as albumation need data in that format\n",
    "    \n",
    "    inputs : dict contains bbox and class_ids\n",
    "    \n",
    "    output : - list of lists that contains bbox\n",
    "             - list of class_ids   \n",
    "    '''\n",
    "    idxx = ground_truth_annotations['image_id']\n",
    "    bboxes = []\n",
    "    class_ids = []\n",
    "    for gt_bbox in ground_truth_annotations:\n",
    "        print(ground_truth_annotations)\n",
    "#         break\n",
    "#         print(gt_bbox)\n",
    "#         xmin = gt_bbox[0]\n",
    "#         ymin = gt_bbox[1]\n",
    "#         width = gt_bbox[2]\n",
    "#         height = gt_bbox[3]\n",
    "#         bboxes.append([xmin, ymin, width, height])\n",
    "#         class_ids.append(gt_bbox[\"class_id\"])\n",
    "    return bboxes, class_ids\n",
    "\n",
    "def convert_bbox_from_gt_to_coco(gt_annotation, img_width, img_height):\n",
    "    xmin = gt_annotation[\"left\"] / img_width\n",
    "    ymin = gt_annotation[\"top\"] / img_height\n",
    "    xmax = (gt_annotation[\"left\"] + gt_annotation[\"width\"]) / img_width\n",
    "    ymax = (gt_annotation[\"top\"] + gt_annotation[\"height\"]) / img_height\n",
    "    bbox = [xmin, ymin, xmax, ymax]\n",
    "    return bbox\n",
    "\n",
    "\n",
    "def extract_data_from_coco(path, image_number):\n",
    "    data = read_json_file(path)\n",
    "    \n",
    "    idx, file_name, height, width = data[0]['images'][image_number]\n",
    "    w = data[0]['annotations'][image_number]\n",
    "    print(data[0]['annotations'][image_number])\n",
    "    extract_bboxes_and_class_ids_coco(w)\n",
    "    \n",
    "\n",
    "extract_data_from_coco(file_path,55)\n",
    "    \n"
   ]
  },
  {
   "cell_type": "code",
   "execution_count": 127,
   "id": "42fa5e3f",
   "metadata": {},
   "outputs": [],
   "source": [
    "for i in data[50:] :\n",
    "    print(i)\n",
    "    image_name = i['image_path'].split('/')[-1]\n",
    "    image_name = base_dir + image_name\n",
    "    anno = i['annotation']\n",
    "    bboxes, class_ids = extract_bboxes_and_class_ids(anno)\n",
    "    \n",
    "    image = cv2.imread(image_name)\n",
    "    image = cv2.cvtColor(image, cv2.COLOR_BGR2RGB)\n",
    "    plt.imshow(image)\n",
    "    visualize()\n",
    "    print(bboxes)\n",
    "    break"
   ]
  },
  {
   "cell_type": "code",
   "execution_count": 108,
   "id": "e906900a",
   "metadata": {},
   "outputs": [
    {
     "name": "stdout",
     "output_type": "stream",
     "text": [
      "The number of samples in input data is 49\n",
      "Peek into a sample of input data\n",
      "{'image_path': 's3://computer-vision-bootcamp/new_dataset/10.jpg', 'annotation': [{'top': 1045, 'left': 975, 'height': 402, 'width': 685, 'class_id': 3}]}\n",
      "******************************\n",
      "Number of samples in train-data : 540\n",
      "Number of samples in validation-data : 3\n",
      "Finished data prepration job successfully.\n"
     ]
    }
   ],
   "source": [
    "!python preprocessing-Copy1.py --num_augmentations_per_img 10\n"
   ]
  },
  {
   "cell_type": "code",
   "execution_count": 171,
   "id": "722710b3",
   "metadata": {},
   "outputs": [
    {
     "name": "stdout",
     "output_type": "stream",
     "text": [
      "Cloning into 'models'...\n",
      "remote: Enumerating objects: 3825, done.\u001b[K\n",
      "remote: Counting objects: 100% (3825/3825), done.\u001b[K\n",
      "remote: Compressing objects: 100% (2926/2926), done.\u001b[K\n",
      "remote: Total 3825 (delta 1109), reused 1947 (delta 849), pack-reused 0\u001b[K\n",
      "Receiving objects: 100% (3825/3825), 49.56 MiB | 2.03 MiB/s, done.\n",
      "Resolving deltas: 100% (1109/1109), done.\n"
     ]
    }
   ],
   "source": [
    "import os\n",
    "import pathlib\n",
    "\n",
    "# Clone the tensorflow models repository if it doesn't already exist\n",
    "if \"models\" in pathlib.Path.cwd().parts:\n",
    "    while \"models\" in pathlib.Path.cwd().parts:\n",
    "        os.chdir('..')\n",
    "elif not pathlib.Path('models').exists():\n",
    "    !git clone --depth 1 https://github.com/tensorflow/models\n",
    "# %%bash\n",
    "# # Install the Object Detection API\n",
    "# cd models/research/\n",
    "# protoc object_detection/protos/*.proto --python_out=.\n",
    "# cp object_detection/packages/tf2/setup.py .\n",
    "# python -m pip install --root-user-action=ignore  --no-warn-conflicts -q ."
   ]
  },
  {
   "cell_type": "code",
   "execution_count": null,
   "id": "757ac74f",
   "metadata": {},
   "outputs": [],
   "source": []
  }
 ],
 "metadata": {
  "kernelspec": {
   "display_name": "Python 3 (ipykernel)",
   "language": "python",
   "name": "python3"
  },
  "language_info": {
   "codemirror_mode": {
    "name": "ipython",
    "version": 3
   },
   "file_extension": ".py",
   "mimetype": "text/x-python",
   "name": "python",
   "nbconvert_exporter": "python",
   "pygments_lexer": "ipython3",
   "version": "3.9.13"
  },
  "toc": {
   "base_numbering": 1,
   "nav_menu": {},
   "number_sections": true,
   "sideBar": true,
   "skip_h1_title": false,
   "title_cell": "Table of Contents",
   "title_sidebar": "Contents",
   "toc_cell": false,
   "toc_position": {},
   "toc_section_display": true,
   "toc_window_display": false
  }
 },
 "nbformat": 4,
 "nbformat_minor": 5
}
